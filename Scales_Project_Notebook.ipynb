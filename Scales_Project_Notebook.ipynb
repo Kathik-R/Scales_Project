{
 "cells": [
  {
   "cell_type": "markdown",
   "metadata": {
    "id": "srXC6pLGLwS6"
   },
   "source": [
    "## Setup"
   ]
  },
  {
   "cell_type": "markdown",
   "metadata": {
    "id": "WGyKZj3bzf9p"
   },
   "source": [
    "### Import TensorFlow and other libraries"
   ]
  },
  {
   "cell_type": "code",
   "execution_count": 1,
   "metadata": {
    "execution": {
     "iopub.execute_input": "2021-08-11T18:24:50.972847Z",
     "iopub.status.busy": "2021-08-11T18:24:50.972275Z",
     "iopub.status.idle": "2021-08-11T18:24:52.595725Z",
     "shell.execute_reply": "2021-08-11T18:24:52.596142Z"
    },
    "id": "yG_n40gFzf9s"
   },
   "outputs": [],
   "source": [
    "import tensorflow as tf\n",
    "from tensorflow.keras.layers.experimental import preprocessing\n",
    "import pandas as pd\n",
    "import seaborn as sns"
   ]
  },
  {
   "cell_type": "code",
   "execution_count": 2,
   "metadata": {},
   "outputs": [],
   "source": [
    "# Modified from code provided by Kento Nozawa, University of Tokyo\n",
    "\n",
    "# from keras import backend as K\n",
    "from keras.models import Sequential\n",
    "from keras.layers import Dense, Activation, Embedding, LSTM, GRU, SimpleRNN\n",
    "from tensorflow.keras.optimizers import Adam\n",
    "from keras.utils import np_utils\n",
    "from keras.utils.vis_utils import model_to_dot, plot_model\n",
    "from keras.preprocessing import sequence\n",
    "import numpy as np\n",
    "import re\n",
    "from collections import Counter\n",
    "from sklearn.model_selection import train_test_split\n",
    "\n",
    "# Scalable Vector Graphics\n",
    "from IPython.display import SVG, HTML\n",
    "from IPython.display import Image\n",
    "\n",
    "from matplotlib import pyplot as plt\n",
    "%matplotlib inline\n",
    "plt.style.use(\"ggplot\")\n",
    "np.random.seed(13)"
   ]
  },
  {
   "cell_type": "code",
   "execution_count": 3,
   "metadata": {},
   "outputs": [],
   "source": [
    "from sklearn.model_selection import train_test_split\n",
    "import statistics\n",
    "import math\n",
    "\n",
    "from sklearn.metrics.pairwise import cosine_similarity"
   ]
  },
  {
   "cell_type": "markdown",
   "metadata": {
    "id": "EHDoRoc5PKWz"
   },
   "source": [
    "### Download the Data"
   ]
  },
  {
   "cell_type": "code",
   "execution_count": 4,
   "metadata": {
    "id": "_Xp9CQJwqnd2",
    "scrolled": true
   },
   "outputs": [
    {
     "data": {
      "text/html": [
       "<div>\n",
       "<style scoped>\n",
       "    .dataframe tbody tr th:only-of-type {\n",
       "        vertical-align: middle;\n",
       "    }\n",
       "\n",
       "    .dataframe tbody tr th {\n",
       "        vertical-align: top;\n",
       "    }\n",
       "\n",
       "    .dataframe thead th {\n",
       "        text-align: right;\n",
       "    }\n",
       "</style>\n",
       "<table border=\"1\" class=\"dataframe\">\n",
       "  <thead>\n",
       "    <tr style=\"text-align: right;\">\n",
       "      <th></th>\n",
       "      <th>EntryNum1</th>\n",
       "      <th>FirstAuthLastName2</th>\n",
       "      <th>Year3</th>\n",
       "      <th>NumCites4</th>\n",
       "      <th>DatePulled5</th>\n",
       "      <th>Dbsource6</th>\n",
       "      <th>FullCite7</th>\n",
       "      <th>ScaleTitle8</th>\n",
       "      <th>CronAlpha9</th>\n",
       "      <th>NumItems10</th>\n",
       "      <th>...</th>\n",
       "      <th>FirstValidation12</th>\n",
       "      <th>ItemTexts13</th>\n",
       "      <th>ScalePoints14</th>\n",
       "      <th>Instructions15</th>\n",
       "      <th>Notes16</th>\n",
       "      <th>jif17</th>\n",
       "      <th>Category18</th>\n",
       "      <th>EgoStatements19</th>\n",
       "      <th>Unnamed: 19</th>\n",
       "      <th>Unnamed: 20</th>\n",
       "    </tr>\n",
       "  </thead>\n",
       "  <tbody>\n",
       "    <tr>\n",
       "      <th>0</th>\n",
       "      <td>1</td>\n",
       "      <td>Soldatos</td>\n",
       "      <td>2000</td>\n",
       "      <td>948</td>\n",
       "      <td>1/27/2021</td>\n",
       "      <td>Google Scholar</td>\n",
       "      <td>Soldatos, C. R., Dikeos, D. G., &amp; Paparrigopou...</td>\n",
       "      <td>Athens Insomnia Scale</td>\n",
       "      <td>0.89</td>\n",
       "      <td>8.0</td>\n",
       "      <td>...</td>\n",
       "      <td>FALSE</td>\n",
       "      <td>Sleep induction (time it takes you to fall asl...</td>\n",
       "      <td>4.0</td>\n",
       "      <td>This scale is intended to record your own asse...</td>\n",
       "      <td>NaN</td>\n",
       "      <td>2.41</td>\n",
       "      <td>Biomedical</td>\n",
       "      <td>False</td>\n",
       "      <td>NaN</td>\n",
       "      <td>NaN</td>\n",
       "    </tr>\n",
       "    <tr>\n",
       "      <th>1</th>\n",
       "      <td>2</td>\n",
       "      <td>Cardon</td>\n",
       "      <td>2013</td>\n",
       "      <td>522</td>\n",
       "      <td>2/22/2021</td>\n",
       "      <td>Google Scholar</td>\n",
       "      <td>Melissa S. Cardon, Denis A. Gregoire, Christop...</td>\n",
       "      <td>EP for Inventing</td>\n",
       "      <td>0.85</td>\n",
       "      <td>5.0</td>\n",
       "      <td>...</td>\n",
       "      <td>TRUE</td>\n",
       "      <td>It is exciting to figure out new ways to solve...</td>\n",
       "      <td>5.0</td>\n",
       "      <td>Please indicate the extent to which you agree ...</td>\n",
       "      <td>NaN</td>\n",
       "      <td>7.59</td>\n",
       "      <td>Business</td>\n",
       "      <td>True</td>\n",
       "      <td>NaN</td>\n",
       "      <td>NaN</td>\n",
       "    </tr>\n",
       "    <tr>\n",
       "      <th>2</th>\n",
       "      <td>3</td>\n",
       "      <td>Cardon</td>\n",
       "      <td>2013</td>\n",
       "      <td>522</td>\n",
       "      <td>2/22/2021</td>\n",
       "      <td>Google Scholar</td>\n",
       "      <td>Melissa S. Cardon, Denis A. Gregoire, Christop...</td>\n",
       "      <td>EP for Founding</td>\n",
       "      <td>0.72</td>\n",
       "      <td>4.0</td>\n",
       "      <td>...</td>\n",
       "      <td>TRUE</td>\n",
       "      <td>Establishing a new company excites me.; Owning...</td>\n",
       "      <td>5.0</td>\n",
       "      <td>Please indicate the extent to which you agree ...</td>\n",
       "      <td>NaN</td>\n",
       "      <td>7.59</td>\n",
       "      <td>Business</td>\n",
       "      <td>True</td>\n",
       "      <td>NaN</td>\n",
       "      <td>NaN</td>\n",
       "    </tr>\n",
       "    <tr>\n",
       "      <th>3</th>\n",
       "      <td>4</td>\n",
       "      <td>Cardon</td>\n",
       "      <td>2013</td>\n",
       "      <td>522</td>\n",
       "      <td>2/22/2021</td>\n",
       "      <td>Google Scholar</td>\n",
       "      <td>Melissa S. Cardon, Denis A. Gregoire, Christop...</td>\n",
       "      <td>EP for Developing</td>\n",
       "      <td>0.77</td>\n",
       "      <td>4.0</td>\n",
       "      <td>...</td>\n",
       "      <td>TRUE</td>\n",
       "      <td>I really like finding the right people to mark...</td>\n",
       "      <td>5.0</td>\n",
       "      <td>Please indicate the extent to which you agree ...</td>\n",
       "      <td>NaN</td>\n",
       "      <td>7.59</td>\n",
       "      <td>Business</td>\n",
       "      <td>True</td>\n",
       "      <td>NaN</td>\n",
       "      <td>NaN</td>\n",
       "    </tr>\n",
       "    <tr>\n",
       "      <th>4</th>\n",
       "      <td>5</td>\n",
       "      <td>Snyder</td>\n",
       "      <td>1996</td>\n",
       "      <td>2227</td>\n",
       "      <td>1/18/2021</td>\n",
       "      <td>Google Scholar</td>\n",
       "      <td>Snyder, C. R., Sympson, S. C., Ybasco, F. C., ...</td>\n",
       "      <td>State Hope Scale</td>\n",
       "      <td>0.93</td>\n",
       "      <td>6.0</td>\n",
       "      <td>...</td>\n",
       "      <td>TRUE</td>\n",
       "      <td>If I should find myself in a jam, I could thin...</td>\n",
       "      <td>8.0</td>\n",
       "      <td>Directions: Read each item carefully. Using th...</td>\n",
       "      <td>NaN</td>\n",
       "      <td>5.91</td>\n",
       "      <td>Psychology</td>\n",
       "      <td>True</td>\n",
       "      <td>NaN</td>\n",
       "      <td>NaN</td>\n",
       "    </tr>\n",
       "  </tbody>\n",
       "</table>\n",
       "<p>5 rows × 21 columns</p>\n",
       "</div>"
      ],
      "text/plain": [
       "   EntryNum1 FirstAuthLastName2  Year3  NumCites4 DatePulled5       Dbsource6  \\\n",
       "0          1           Soldatos   2000        948   1/27/2021  Google Scholar   \n",
       "1          2             Cardon   2013        522   2/22/2021  Google Scholar   \n",
       "2          3             Cardon   2013        522   2/22/2021  Google Scholar   \n",
       "3          4             Cardon   2013        522   2/22/2021  Google Scholar   \n",
       "4          5             Snyder   1996       2227   1/18/2021  Google Scholar   \n",
       "\n",
       "                                           FullCite7            ScaleTitle8  \\\n",
       "0  Soldatos, C. R., Dikeos, D. G., & Paparrigopou...  Athens Insomnia Scale   \n",
       "1  Melissa S. Cardon, Denis A. Gregoire, Christop...       EP for Inventing   \n",
       "2  Melissa S. Cardon, Denis A. Gregoire, Christop...        EP for Founding   \n",
       "3  Melissa S. Cardon, Denis A. Gregoire, Christop...      EP for Developing   \n",
       "4  Snyder, C. R., Sympson, S. C., Ybasco, F. C., ...       State Hope Scale   \n",
       "\n",
       "  CronAlpha9  NumItems10  ... FirstValidation12  \\\n",
       "0       0.89         8.0  ...             FALSE   \n",
       "1       0.85         5.0  ...              TRUE   \n",
       "2       0.72         4.0  ...              TRUE   \n",
       "3       0.77         4.0  ...              TRUE   \n",
       "4       0.93         6.0  ...              TRUE   \n",
       "\n",
       "                                         ItemTexts13 ScalePoints14  \\\n",
       "0  Sleep induction (time it takes you to fall asl...           4.0   \n",
       "1  It is exciting to figure out new ways to solve...           5.0   \n",
       "2  Establishing a new company excites me.; Owning...           5.0   \n",
       "3  I really like finding the right people to mark...           5.0   \n",
       "4  If I should find myself in a jam, I could thin...           8.0   \n",
       "\n",
       "                                      Instructions15 Notes16 jif17  \\\n",
       "0  This scale is intended to record your own asse...     NaN  2.41   \n",
       "1  Please indicate the extent to which you agree ...     NaN  7.59   \n",
       "2  Please indicate the extent to which you agree ...     NaN  7.59   \n",
       "3  Please indicate the extent to which you agree ...     NaN  7.59   \n",
       "4  Directions: Read each item carefully. Using th...     NaN  5.91   \n",
       "\n",
       "   Category18 EgoStatements19 Unnamed: 19  Unnamed: 20  \n",
       "0  Biomedical           False         NaN          NaN  \n",
       "1    Business            True         NaN          NaN  \n",
       "2    Business            True         NaN          NaN  \n",
       "3    Business            True         NaN          NaN  \n",
       "4  Psychology            True         NaN          NaN  \n",
       "\n",
       "[5 rows x 21 columns]"
      ]
     },
     "execution_count": 4,
     "metadata": {},
     "output_type": "execute_result"
    }
   ],
   "source": [
    "# Some collected plays by Anton Chekhov\n",
    "# url = \"https://www.dropbox.com/s/6iywkifab9yfz1l/SentenceQualitySlim.csv?dl=1\"\n",
    "dataset = pd.read_csv(\"ScaleDataCollectionShared.csv\")\n",
    "dataset.head()"
   ]
  },
  {
   "cell_type": "markdown",
   "metadata": {},
   "source": [
    "### Cleaning the dataset"
   ]
  },
  {
   "cell_type": "code",
   "execution_count": 5,
   "metadata": {},
   "outputs": [
    {
     "name": "stderr",
     "output_type": "stream",
     "text": [
      "C:\\Users\\Kathik\\AppData\\Local\\Temp/ipykernel_6984/3804334506.py:2: UserWarning: Boolean Series key will be reindexed to match DataFrame index.\n",
      "  dataset = dataset[dataset['ItemTexts13'].isnull()==False][dataset['CronAlpha9'].isnull()==False]\n"
     ]
    },
    {
     "data": {
      "text/plain": [
       "(310, 21)"
      ]
     },
     "execution_count": 5,
     "metadata": {},
     "output_type": "execute_result"
    }
   ],
   "source": [
    "# Remove null values in our X and Y variable columns\n",
    "dataset = dataset[dataset['ItemTexts13'].isnull()==False][dataset['CronAlpha9'].isnull()==False]\n",
    "dataset.shape"
   ]
  },
  {
   "cell_type": "code",
   "execution_count": 6,
   "metadata": {
    "scrolled": false
   },
   "outputs": [
    {
     "data": {
      "text/plain": [
       "0      Sleep induction (time it takes you to fall asl...\n",
       "1      It is exciting to figure out new ways to solve...\n",
       "2      Establishing a new company excites me.; Owning...\n",
       "3      I really like finding the right people to mark...\n",
       "4      If I should find myself in a jam, I could thin...\n",
       "                             ...                        \n",
       "319    I consider myself an athlete.; I have many goa...\n",
       "323    I think in detail about costs and benefits.; I...\n",
       "324    I trust my gut instinct.I trust my feelings.; ...\n",
       "325    I ask friends to give me advice.; I think of s...\n",
       "326    I rely on spiritual discernment.; I use spirit...\n",
       "Name: ItemTexts13, Length: 310, dtype: object"
      ]
     },
     "execution_count": 6,
     "metadata": {},
     "output_type": "execute_result"
    }
   ],
   "source": [
    "# save all input sentences in a variable\n",
    "sentences = dataset['ItemTexts13']\n",
    "sentences"
   ]
  },
  {
   "cell_type": "code",
   "execution_count": 7,
   "metadata": {},
   "outputs": [],
   "source": [
    "def clean_str(string):\n",
    "    \"\"\"\n",
    "    String clean up reg exes.\n",
    "    Original taken from https://github.com/yoonkim/CNN_sentence/blob/master/process_data.py\n",
    "    \"\"\"\n",
    "    string = re.sub(r\"[^A-Za-z0-9(),!?\\'\\`]\", \" \", string)\n",
    "    string = re.sub(r\"\\'s\", \" \\'s\", string)\n",
    "    string = re.sub(r\"\\'ve\", \" \\'ve\", string)\n",
    "    string = re.sub(r\"n\\'t\", \" n\\'t\", string)\n",
    "    string = re.sub(r\"\\'re\", \" \\'re\", string)\n",
    "    string = re.sub(r\"\\'d\", \" \\'d\", string)\n",
    "    string = re.sub(r\"\\'ll\", \" \\'ll\", string)\n",
    "    string = re.sub(r\",\", \" , \", string)\n",
    "    string = re.sub(r\"!\", \" ! \", string)\n",
    "    string = re.sub(r\"\\(\", \" \\( \", string)\n",
    "    string = re.sub(r\"\\)\", \" \\) \", string)\n",
    "    string = re.sub(r\"\\?\", \" \\? \", string)\n",
    "    string = re.sub(r\"\\s{2,}\", \" \", string)\n",
    "    \n",
    "    # return lowercase version of entire sentence\n",
    "    # and remove all leading spaces\n",
    "    return string.strip().lower()"
   ]
  },
  {
   "cell_type": "code",
   "execution_count": 8,
   "metadata": {},
   "outputs": [],
   "source": [
    "# Apply the clean_str function to our sentences\n",
    "cleaned_sentences = []\n",
    "for sentence in dataset[\"ItemTexts13\"]:\n",
    "    cleaned_sentences.append(clean_str(sentence.strip()))"
   ]
  },
  {
   "cell_type": "code",
   "execution_count": 9,
   "metadata": {
    "scrolled": true
   },
   "outputs": [
    {
     "data": {
      "text/plain": [
       "'Sleep induction (time it takes you to fall asleep after turning-off the lights); Awakenings during the night; Final awakening earlier than desired; Total sleep duration; Overall quality of sleep (no matter how long you slept); Sense of well-being during the day; Functioning (physical and mental) during the day; Sleepiness during the day'"
      ]
     },
     "execution_count": 9,
     "metadata": {},
     "output_type": "execute_result"
    }
   ],
   "source": [
    "# Sentence Before Cleaning\n",
    "dataset.ItemTexts13[0]"
   ]
  },
  {
   "cell_type": "code",
   "execution_count": 10,
   "metadata": {},
   "outputs": [
    {
     "data": {
      "text/plain": [
       "'sleep induction \\\\( time it takes you to fall asleep after turning off the lights \\\\) awakenings during the night final awakening earlier than desired total sleep duration overall quality of sleep \\\\( no matter how long you slept \\\\) sense of well being during the day functioning \\\\( physical and mental \\\\) during the day sleepiness during the day'"
      ]
     },
     "execution_count": 10,
     "metadata": {},
     "output_type": "execute_result"
    }
   ],
   "source": [
    "# Sentence After Cleaning\n",
    "cleaned_sentences[0]"
   ]
  },
  {
   "cell_type": "code",
   "execution_count": 11,
   "metadata": {},
   "outputs": [
    {
     "data": {
      "text/plain": [
       "766"
      ]
     },
     "execution_count": 11,
     "metadata": {},
     "output_type": "execute_result"
    }
   ],
   "source": [
    "# Max sentence length\n",
    "# used to determine the size of our input X matrix\n",
    "max_sentence_length = max([len(sentence.split(\" \")) for sentence in cleaned_sentences])\n",
    "max_sentence_length"
   ]
  },
  {
   "cell_type": "code",
   "execution_count": 12,
   "metadata": {},
   "outputs": [
    {
     "data": {
      "text/plain": [
       "28479"
      ]
     },
     "execution_count": 12,
     "metadata": {},
     "output_type": "execute_result"
    }
   ],
   "source": [
    "# Break each sentence into words on the basis of \" \" (space) token\n",
    "# to get a list of words used in our sentences\n",
    "tokens = [t for doc in cleaned_sentences for t in doc.split(\" \")]\n",
    "\n",
    "# length of list gives us vocabulary size\n",
    "vocab_size = len(tokens)\n",
    "vocab_size"
   ]
  },
  {
   "cell_type": "code",
   "execution_count": 13,
   "metadata": {},
   "outputs": [
    {
     "data": {
      "text/plain": [
       "2977"
      ]
     },
     "execution_count": 13,
     "metadata": {},
     "output_type": "execute_result"
    }
   ],
   "source": [
    "# Create a dictionary of words with their respective frequency\n",
    "counter = Counter(tokens)\n",
    "\n",
    "# Find unique tokens which are the keys of the dictionary\n",
    "index2word = list(counter.keys())\n",
    "\n",
    "# insert padding string\n",
    "# this string will be used to pad the sentences which are shorter than\n",
    "# the max length to create a matrix without empty cells\n",
    "index2word.insert(0, 'PAD')\n",
    "\n",
    "# vocabulary size with padding\n",
    "len(index2word)"
   ]
  },
  {
   "cell_type": "code",
   "execution_count": 14,
   "metadata": {},
   "outputs": [
    {
     "data": {
      "text/plain": [
       "(310, 766)"
      ]
     },
     "execution_count": 14,
     "metadata": {},
     "output_type": "execute_result"
    }
   ],
   "source": [
    "# Initialize Token ID Matrix with shape\n",
    "# Number of Sentences vs maximum sentence size\n",
    "x_matrix = np.full((len(cleaned_sentences), max_sentence_length), 0)\n",
    "\n",
    "# loop through all the sentences\n",
    "for i, sequence in enumerate(cleaned_sentences):\n",
    "    # each row is the collection of the index within our vocabulary\n",
    "    # for each word in the sentences \n",
    "    row_ix = [index2word.index(w) for w in sequence.split(' ')]\n",
    "    # assign the list of index to the respective row in our input matrix\n",
    "    x_matrix[i, :len(row_ix)] = row_ix\n",
    "\n",
    "# check shape of matrix\n",
    "x_matrix.shape"
   ]
  },
  {
   "cell_type": "markdown",
   "metadata": {},
   "source": [
    "### Download GloVe Embeddings"
   ]
  },
  {
   "cell_type": "code",
   "execution_count": 15,
   "metadata": {},
   "outputs": [],
   "source": [
    "embedding_width = 300"
   ]
  },
  {
   "cell_type": "code",
   "execution_count": 16,
   "metadata": {},
   "outputs": [
    {
     "name": "stdout",
     "output_type": "stream",
     "text": [
      "Loading word embeddings...\n",
      "Loaded 400001 word vectors.\n"
     ]
    }
   ],
   "source": [
    "print(\"Loading word embeddings...\")\n",
    "embeddings_index = dict() # Initialize an empty dictionary\n",
    "embedding_dir = 'glove.6B.'+str(embedding_width)+'d.txt'   # Set filename with word embeddings\n",
    "\n",
    "f = open(embedding_dir,encoding=\"utf8\")   # open embeddings file\n",
    "for line in f:  # loop through all the row entries in the file\n",
    "    values = line.split()   # split each row at a space\n",
    "    word = values[0]   # the first entry is the word\n",
    "    coefs = np.asarray(values[1:], dtype='float32')  # the numbers from the second entry are the embeddings. Convert them to an array of floating point values\n",
    "    embeddings_index[word] = coefs   # add them to a dictionary \n",
    "f.close()   # close the file\n",
    "print('Loaded %s word vectors.' % len(embeddings_index))   # give notification that loading is complete"
   ]
  },
  {
   "cell_type": "code",
   "execution_count": 17,
   "metadata": {},
   "outputs": [
    {
     "data": {
      "text/plain": [
       "(300,)"
      ]
     },
     "execution_count": 17,
     "metadata": {},
     "output_type": "execute_result"
    }
   ],
   "source": [
    "# Check size of word embeddings\n",
    "embeddings_index.get('-').shape"
   ]
  },
  {
   "cell_type": "markdown",
   "metadata": {
    "id": "UHjdCjDuSvX_"
   },
   "source": [
    "### Generating the Word Embedding Weight Matrix for words in training "
   ]
  },
  {
   "cell_type": "code",
   "execution_count": 18,
   "metadata": {
    "scrolled": false
   },
   "outputs": [
    {
     "name": "stdout",
     "output_type": "stream",
     "text": [
      "PAD  is not available\n",
      "\\(  is not available\n",
      "\\)  is not available\n",
      "\\?  is not available\n",
      "nowdays  is not available\n",
      "ignorning  is not available\n",
      "culty  is not available\n",
      "employees'  is not available\n",
      "openrice  is not available\n",
      "udoo  is not available\n",
      "codu  is not available\n"
     ]
    }
   ],
   "source": [
    "# create a weight matrix for words in training docs\n",
    "# it is a mtrix of each word in our vocabulary and their respective word embeddings\n",
    "embedding_matrix = np.zeros((vocab_size, embedding_width))\n",
    "\n",
    "# loop through all the words in our vocabulary\n",
    "for i, word in enumerate(index2word):\n",
    "    # retrieve word embedding for the respective word \n",
    "    embedding_vector = embeddings_index.get(word)\n",
    "    \n",
    "    # if word embedding is available then add it to our matrix\n",
    "    if embedding_vector is not None:\n",
    "        embedding_matrix[i] = embedding_vector\n",
    "    else:  # otherwise give a prompt that the embedding is not available\n",
    "        print(word,\" is not available\")"
   ]
  },
  {
   "cell_type": "code",
   "execution_count": 19,
   "metadata": {
    "scrolled": true
   },
   "outputs": [
    {
     "data": {
      "text/plain": [
       "(28479, 300)"
      ]
     },
     "execution_count": 19,
     "metadata": {},
     "output_type": "execute_result"
    }
   ],
   "source": [
    "# Shape of the matrix: (Number of words, size of word embedding)\n",
    "embedding_matrix.shape"
   ]
  },
  {
   "cell_type": "markdown",
   "metadata": {},
   "source": [
    "# The Model"
   ]
  },
  {
   "cell_type": "code",
   "execution_count": 20,
   "metadata": {},
   "outputs": [
    {
     "name": "stdout",
     "output_type": "stream",
     "text": [
      "Model: \"sequential\"\n",
      "_________________________________________________________________\n",
      " Layer (type)                Output Shape              Param #   \n",
      "=================================================================\n",
      " embedding (Embedding)       (None, 766, 300)          8543700   \n",
      "                                                                 \n",
      " lstm (LSTM)                 (None, 64)                93440     \n",
      "                                                                 \n",
      " dense (Dense)               (None, 1)                 65        \n",
      "                                                                 \n",
      "=================================================================\n",
      "Total params: 8,637,205\n",
      "Trainable params: 93,505\n",
      "Non-trainable params: 8,543,700\n",
      "_________________________________________________________________\n"
     ]
    }
   ],
   "source": [
    "# The Model\n",
    "model = Sequential()\n",
    "model.add(Embedding(vocab_size, embedding_width, weights = [embedding_matrix] , trainable = False, input_length=max_sentence_length))\n",
    "model.add(LSTM(64, return_sequences=False))\n",
    "model.add(Dense(1, activation=\"linear\"))\n",
    "\n",
    "# Adam optimizer\n",
    "adam_opt = Adam(learning_rate=0.05, beta_1=0.9, beta_2=0.99, epsilon=1e-05, amsgrad=False,\n",
    "    name='Adam')\n",
    "model.compile(loss='mse',\n",
    "              optimizer=adam_opt,\n",
    "              metrics=['mse','mae'])\n",
    "model.summary()"
   ]
  },
  {
   "cell_type": "code",
   "execution_count": 21,
   "metadata": {},
   "outputs": [],
   "source": [
    "# Set number of epochs for which the model needs to be trained\n",
    "nb_epoch = 5"
   ]
  },
  {
   "cell_type": "markdown",
   "metadata": {},
   "source": [
    "#### Some functions for training"
   ]
  },
  {
   "cell_type": "code",
   "execution_count": 23,
   "metadata": {},
   "outputs": [],
   "source": [
    "def train_model_on_dataset(X, y, model, nb_epoch):\n",
    "    # create training and testing set\n",
    "    X_train, X_test, y_train, y_test = train_test_split(X, y, test_size=0.20, random_state=101, shuffle=False)\n",
    "    # train the model on the training data and then return the results\n",
    "    training_results = model.fit(X_train, y_train, batch_size=8, epochs=nb_epoch, validation_data=(X_test, y_test))\n",
    "    return training_results"
   ]
  },
  {
   "cell_type": "code",
   "execution_count": 24,
   "metadata": {},
   "outputs": [],
   "source": [
    "def create_error_plots(mse_history, mae_history, nb_epoch):\n",
    "    x = range(nb_epoch)   # set range of x axis to the number of epochs\n",
    "    \n",
    "    # plot the Mean Square Error vs the epochs\n",
    "    plt.plot(x, mse_history, label=\"Mean Square Error\")\n",
    "    plt.title(\"Training Loss: MSE\")\n",
    "    plt.legend(loc='center left', bbox_to_anchor=(1, 0.5))\n",
    "    plt.show()\n",
    "    \n",
    "    # plot the Mean Absolute Error vs the epochs\n",
    "    plt.plot(x, mae_history, label=\"Mean Absolute Error\")\n",
    "    plt.title(\"Training Loss: MAE\")\n",
    "    plt.legend(loc='center left', bbox_to_anchor=(1, 0.5))\n",
    "    plt.show()"
   ]
  },
  {
   "cell_type": "code",
   "execution_count": 25,
   "metadata": {},
   "outputs": [],
   "source": [
    "def kfold_multiple_trains(x_matrix, y, model, nb_epoch, vocab_size, embedding_width, max_sentence_length, embedding_matrix):\n",
    "    # create variables for the outputs of the k-fold models\n",
    "    model_dict, mse_history, mae_history = {}, [], []\n",
    "    \n",
    "    # loop through the number of k-folds, which is the length of the input divided by 50\n",
    "    for index in range(0, len(y), 50):\n",
    "        # Create the 'index' iteration of the k-fold dataset\n",
    "        X_test = x_matrix[index:index+50]\n",
    "        X_train = np.concatenate((x_matrix[0:index],x_matrix[index+50:]), axis=0)\n",
    "        y_test = y[index:index+50]\n",
    "        y_train = np.concatenate((y[0:index],y[index+50:]),axis=0)\n",
    "        \n",
    "        # The Model for the 'index' iteration of the k-fold dataset\n",
    "        model = Sequential()\n",
    "        model.add(Embedding(vocab_size, embedding_width, input_length =max_sentence_length, weights = [embedding_matrix] , trainable = False))\n",
    "        model.add(LSTM(64, return_sequences=False))\n",
    "        model.add(Dense(1, activation=\"linear\"))\n",
    "        \n",
    "        # Adam optimizer\n",
    "        adam_opt = Adam(learning_rate=0.05, beta_1=0.9, beta_2=0.99, epsilon=1e-05, amsgrad=False,\n",
    "            name='Adam')\n",
    "        model.compile(loss='mse',\n",
    "                      optimizer=adam_opt,\n",
    "                      metrics=['mse','mae'])\n",
    "        model.summary()\n",
    "        \n",
    "        # Train the model for the 'index' iteration of the k-fold dataset\n",
    "        train_results = model.fit(X_train, y_train, batch_size=8, epochs=nb_epoch,\n",
    "                   validation_data=(X_test, y_test))\n",
    "        \n",
    "        # make cronbach alpha predictions using the model\n",
    "        y_pred = model.predict(X_test)\n",
    "        # calculate the accuracy using the r_squared metric\n",
    "        r_squared = get_rsquared_for_model(y_test, y_pred).numpy()\n",
    "        \n",
    "        # update output variables\n",
    "        model_dict[index] = [model, train_results, y_pred, r_squared]\n",
    "        mse_history.append(train_results.history['mse'])\n",
    "        mae_history.append(train_results.history['mae'])\n",
    "    \n",
    "    return model_dict, mse_history, mae_history"
   ]
  },
  {
   "cell_type": "code",
   "execution_count": 26,
   "metadata": {},
   "outputs": [],
   "source": [
    "# plot error metrics vs k-folds graphs\n",
    "def plot_k_fold_final_errors(variable, mse_list, mae_list):\n",
    "    x = range(1,len(mse_list)+1)\n",
    "    plt.plot(x, mse_list, label=\"Mean Square Error\")\n",
    "\n",
    "    plt.title(variable+\" MSE per n-fold run\")\n",
    "    plt.legend(loc='center left', bbox_to_anchor=(1, 0.5))\n",
    "    plt.show()\n",
    "\n",
    "    plt.plot(x, mae_list, label=\"Mean Absolute Error\")\n",
    "    plt.title(variable+\" MAE per n-fold run\")\n",
    "    plt.legend(loc='center left', bbox_to_anchor=(1, 0.5))\n",
    "    plt.show()"
   ]
  },
  {
   "cell_type": "code",
   "execution_count": 27,
   "metadata": {},
   "outputs": [],
   "source": [
    "# Calculate R squared for the model\n",
    "def get_rsquared_for_model(y, y_pred):\n",
    "    unexplained_error = tf.reduce_sum(tf.square(tf.subtract(y, y_pred)))\n",
    "    total_error = tf.reduce_sum(tf.square(tf.subtract(y, tf.reduce_mean(y))))\n",
    "    R_squared = tf.subtract(1, tf.divide(unexplained_error, total_error))\n",
    "    return R_squared"
   ]
  },
  {
   "cell_type": "markdown",
   "metadata": {},
   "source": [
    "# Predict Cronbach's Alpha\n",
    "\n",
    "This model attempts to predict the original Cronbach's Aplha values from our sentences as inputs."
   ]
  },
  {
   "cell_type": "code",
   "execution_count": 28,
   "metadata": {
    "scrolled": false
   },
   "outputs": [
    {
     "data": {
      "text/plain": [
       "0      0.89\n",
       "1      0.85\n",
       "2      0.72\n",
       "3      0.77\n",
       "4      0.93\n",
       "       ... \n",
       "319    0.81\n",
       "323    0.78\n",
       "324    0.83\n",
       "325    0.84\n",
       "326    0.94\n",
       "Name: CronAlpha9, Length: 310, dtype: float64"
      ]
     },
     "execution_count": 28,
     "metadata": {},
     "output_type": "execute_result"
    }
   ],
   "source": [
    "y_cron = dataset['CronAlpha9'].apply(float)\n",
    "y_cron"
   ]
  },
  {
   "cell_type": "code",
   "execution_count": 29,
   "metadata": {
    "scrolled": true
   },
   "outputs": [
    {
     "name": "stdout",
     "output_type": "stream",
     "text": [
      "Model: \"sequential_1\"\n",
      "_________________________________________________________________\n",
      " Layer (type)                Output Shape              Param #   \n",
      "=================================================================\n",
      " embedding_1 (Embedding)     (None, 766, 300)          8543700   \n",
      "                                                                 \n",
      " lstm_1 (LSTM)               (None, 64)                93440     \n",
      "                                                                 \n",
      " dense_1 (Dense)             (None, 1)                 65        \n",
      "                                                                 \n",
      "=================================================================\n",
      "Total params: 8,637,205\n",
      "Trainable params: 93,505\n",
      "Non-trainable params: 8,543,700\n",
      "_________________________________________________________________\n",
      "Epoch 1/5\n",
      "25/25 [==============================] - 7s 219ms/step - loss: 2.3531 - mse: 2.3531 - mae: 0.9288 - val_loss: 0.0395 - val_mse: 0.0395 - val_mae: 0.1828\n",
      "Epoch 2/5\n",
      "25/25 [==============================] - 5s 220ms/step - loss: 0.0134 - mse: 0.0134 - mae: 0.0910 - val_loss: 0.0063 - val_mse: 0.0063 - val_mae: 0.0608\n",
      "Epoch 3/5\n",
      "25/25 [==============================] - 6s 234ms/step - loss: 0.0091 - mse: 0.0091 - mae: 0.0721 - val_loss: 0.0095 - val_mse: 0.0095 - val_mae: 0.0813\n",
      "Epoch 4/5\n",
      "25/25 [==============================] - 6s 221ms/step - loss: 0.0089 - mse: 0.0089 - mae: 0.0737 - val_loss: 0.0066 - val_mse: 0.0066 - val_mae: 0.0636\n",
      "Epoch 5/5\n",
      "25/25 [==============================] - 6s 232ms/step - loss: 0.0092 - mse: 0.0092 - mae: 0.0744 - val_loss: 0.0063 - val_mse: 0.0063 - val_mae: 0.0610\n"
     ]
    }
   ],
   "source": [
    "X_train, X_test, y_train, y_test = train_test_split(x_matrix, y_cron, test_size=0.20, random_state=200, shuffle=False)\n",
    "\n",
    "# The Model\n",
    "model = Sequential()\n",
    "model.add(Embedding(vocab_size, embedding_width, input_length =max_sentence_length, weights = [embedding_matrix] , trainable = False))\n",
    "model.add(LSTM(64, return_sequences=False))\n",
    "model.add(Dense(1, activation=\"linear\"))\n",
    "\n",
    "# Adam optimizer\n",
    "adam_opt = Adam(learning_rate=0.05, beta_1=0.9, beta_2=0.99, epsilon=1e-05, amsgrad=False,\n",
    "    name='Adam')\n",
    "model.compile(loss='mse',\n",
    "              optimizer=adam_opt,\n",
    "              metrics=['mse','mae'])\n",
    "model.summary()\n",
    "\n",
    "# Train the model\n",
    "train_results = model.fit(X_train, y_train, batch_size=10, epochs=5,\n",
    "           validation_data=(X_test, y_test))"
   ]
  },
  {
   "cell_type": "code",
   "execution_count": 30,
   "metadata": {
    "scrolled": false
   },
   "outputs": [
    {
     "data": {
      "image/png": "[encoded data removed]",
      "text/plain": [
       "<Figure size 432x288 with 1 Axes>"
      ]
     },
     "metadata": {},
     "output_type": "display_data"
    },
    {
     "data": {
      "image/png": "[encoded data removed]",
      "text/plain": [
       "<Figure size 432x288 with 1 Axes>"
      ]
     },
     "metadata": {},
     "output_type": "display_data"
    }
   ],
   "source": [
    "create_error_plots(train_results.history['mse'], train_results.history['mae'], nb_epoch=5)"
   ]
  },
  {
   "cell_type": "code",
   "execution_count": 32,
   "metadata": {
    "scrolled": true
   },
   "outputs": [
    {
     "data": {
      "text/plain": [
       "array([[0.83963656],\n",
       "       [0.8396365 ],\n",
       "       [0.83963656],\n",
       "       [0.8396365 ],\n",
       "       [0.8396366 ],\n",
       "       [0.8396365 ],\n",
       "       [0.83963656],\n",
       "       [0.8396365 ],\n",
       "       [0.83963656],\n",
       "       [0.8396365 ],\n",
       "       [0.8396366 ],\n",
       "       [0.83963656],\n",
       "       [0.83963656],\n",
       "       [0.8396365 ],\n",
       "       [0.83963656],\n",
       "       [0.83963656],\n",
       "       [0.83963656],\n",
       "       [0.8396365 ],\n",
       "       [0.83963656],\n",
       "       [0.8396366 ],\n",
       "       [0.8396365 ],\n",
       "       [0.8396366 ],\n",
       "       [0.8396366 ],\n",
       "       [0.83963656],\n",
       "       [0.83963656],\n",
       "       [0.83963656],\n",
       "       [0.83963656],\n",
       "       [0.8396365 ],\n",
       "       [0.8396366 ],\n",
       "       [0.8396365 ],\n",
       "       [0.83963656],\n",
       "       [0.83963656],\n",
       "       [0.83963656],\n",
       "       [0.83963656],\n",
       "       [0.8396366 ],\n",
       "       [0.83963656],\n",
       "       [0.8396366 ],\n",
       "       [0.83963656],\n",
       "       [0.8396365 ],\n",
       "       [0.8396366 ],\n",
       "       [0.83963656],\n",
       "       [0.83963656],\n",
       "       [0.83963656],\n",
       "       [0.8396365 ],\n",
       "       [0.83963656],\n",
       "       [0.83963656],\n",
       "       [0.83963656],\n",
       "       [0.8396366 ],\n",
       "       [0.8105292 ],\n",
       "       [0.8396366 ],\n",
       "       [0.8396365 ],\n",
       "       [0.83963656],\n",
       "       [0.8396366 ],\n",
       "       [0.8396365 ],\n",
       "       [0.83963656],\n",
       "       [0.83963656],\n",
       "       [0.8396366 ],\n",
       "       [0.83963656],\n",
       "       [0.8396365 ],\n",
       "       [0.83963656],\n",
       "       [0.8396366 ],\n",
       "       [0.8396365 ]], dtype=float32)"
      ]
     },
     "execution_count": 32,
     "metadata": {},
     "output_type": "execute_result"
    }
   ],
   "source": [
    "y_pred = model.predict(X_test)\n",
    "y_pred"
   ]
  },
  {
   "cell_type": "code",
   "execution_count": 39,
   "metadata": {},
   "outputs": [
    {
     "name": "stdout",
     "output_type": "stream",
     "text": [
      "-63.36852778647636\n"
     ]
    }
   ],
   "source": [
    "# Get R-Squared for the model\n",
    "print(float(get_rsquared_for_model(y_cron, y_pred)))"
   ]
  },
  {
   "cell_type": "code",
   "execution_count": 33,
   "metadata": {
    "scrolled": false
   },
   "outputs": [
    {
     "data": {
      "text/plain": [
       "<AxesSubplot:xlabel='CronAlpha9', ylabel='Count'>"
      ]
     },
     "execution_count": 33,
     "metadata": {},
     "output_type": "execute_result"
    },
    {
     "data": {
      "image/png": "[encoded data removed]",
      "text/plain": [
       "<Figure size 432x288 with 1 Axes>"
      ]
     },
     "metadata": {},
     "output_type": "display_data"
    }
   ],
   "source": [
    "sns.histplot(y_cron)"
   ]
  },
  {
   "cell_type": "code",
   "execution_count": 34,
   "metadata": {},
   "outputs": [
    {
     "name": "stdout",
     "output_type": "stream",
     "text": [
      "Mean Cronbach's Alpha: 0.8214209677419355\n",
      "Median Cronbach's Alpha: 0.835\n",
      "Mode Cronbach's Alpha: 0.81\n"
     ]
    }
   ],
   "source": [
    "print(\"Mean Cronbach's Alpha:\", str(statistics.mean(y_cron)))\n",
    "print(\"Median Cronbach's Alpha:\", str(statistics.median(y_cron)))\n",
    "print(\"Mode Cronbach's Alpha:\", str(statistics.mode(y_cron)))"
   ]
  },
  {
   "cell_type": "markdown",
   "metadata": {},
   "source": [
    "#### OBSERVATIONS\n",
    "- The error plots show that the model is trained to minimze the prediction error and does that very effectively\n",
    "- However, the R-Squared value is negative which is not correct. I have rechecked the function and there appears to be no error in the calculation methodology.\n",
    "- Looking at the y_pred, we see that the model is predicting a value close to the Median of the y_cron variable. By doing that it is able to minimize the error significantly but not give us accurate predictions\n",
    "\n",
    "#### INFERENCES AND WAY FORWARD\n",
    "The above observations show that the range of y_cron is narrow. This has resulted in a model which has too much bias and too little variance. Going forward we can:\n",
    "- attempt to increase the range by predicting the z score of each cronbach's alpha within the distribution of the variable y_cron.\n",
    "- change this to a classification problem by using the sentences to predict the integeral z-scores\n",
    "- use sentence embeddings to predict the cosine similarity between sub-sentences in each input sentence. We can then use these cosine similarities to predict the cronbach's alpha using a simple feed forward neural network."
   ]
  },
  {
   "cell_type": "code",
   "execution_count": 45,
   "metadata": {},
   "outputs": [],
   "source": [
    "# Some related reading\n",
    "#LINK: https://stats.stackexchange.com/questions/261704/training-a-neural-network-for-regression-always-predicts-the-mean"
   ]
  },
  {
   "cell_type": "markdown",
   "metadata": {},
   "source": [
    "# Predict number of Standard Deviations from Mean"
   ]
  },
  {
   "cell_type": "code",
   "execution_count": 41,
   "metadata": {},
   "outputs": [
    {
     "name": "stdout",
     "output_type": "stream",
     "text": [
      "Mean Cronbach's Alpha: 0.8214209677419355\n",
      "Standard Deviation for Cronbach's Alpha: 0.0928623457313236\n"
     ]
    }
   ],
   "source": [
    "mean_cron = statistics.mean(y_cron)\n",
    "stdev_cron = statistics.stdev(y_cron)\n",
    "print(\"Mean Cronbach's Alpha:\", mean_cron)\n",
    "print(\"Standard Deviation for Cronbach's Alpha:\", stdev_cron)"
   ]
  },
  {
   "cell_type": "code",
   "execution_count": 42,
   "metadata": {
    "scrolled": true
   },
   "outputs": [
    {
     "data": {
      "text/plain": [
       "0      0.738502\n",
       "1      0.307757\n",
       "2     -1.092165\n",
       "3     -0.553733\n",
       "4      1.169247\n",
       "         ...   \n",
       "319   -0.122988\n",
       "323   -0.446047\n",
       "324    0.092384\n",
       "325    0.200071\n",
       "326    1.276933\n",
       "Name: CronAlpha9, Length: 310, dtype: float64"
      ]
     },
     "execution_count": 42,
     "metadata": {},
     "output_type": "execute_result"
    }
   ],
   "source": [
    "z_cron = ((y_cron-mean_cron)/stdev_cron)\n",
    "z_cron"
   ]
  },
  {
   "cell_type": "code",
   "execution_count": 50,
   "metadata": {},
   "outputs": [
    {
     "name": "stdout",
     "output_type": "stream",
     "text": [
      "Range for Cronbach's Alpha\n",
      "Min: 0.46 Max: 0.98\n"
     ]
    }
   ],
   "source": [
    "print(\"Range for Cronbach's Alpha\")\n",
    "print(\"Min:\",min(y_cron),\"Max:\", max(y_cron))"
   ]
  },
  {
   "cell_type": "code",
   "execution_count": 51,
   "metadata": {},
   "outputs": [
    {
     "name": "stdout",
     "output_type": "stream",
     "text": [
      "Range for Z Scores of Cronbach's Alpha\n",
      "Min: -3.8920077335503254 Max: 1.7076785106945003\n"
     ]
    }
   ],
   "source": [
    "print(\"Range for Z Scores of Cronbach's Alpha\")\n",
    "print(\"Min:\",min(z_cron),\"Max:\", max(z_cron))"
   ]
  },
  {
   "cell_type": "code",
   "execution_count": 52,
   "metadata": {
    "scrolled": false
   },
   "outputs": [
    {
     "data": {
      "text/plain": [
       "<AxesSubplot:xlabel='CronAlpha9', ylabel='Count'>"
      ]
     },
     "execution_count": 52,
     "metadata": {},
     "output_type": "execute_result"
    },
    {
     "data": {
      "image/png": "[encoded data removed]",
      "text/plain": [
       "<Figure size 432x288 with 1 Axes>"
      ]
     },
     "metadata": {},
     "output_type": "display_data"
    }
   ],
   "source": [
    "sns.histplot(z_cron)"
   ]
  },
  {
   "cell_type": "markdown",
   "metadata": {},
   "source": [
    "From the above range we can see that we have managed to increase the variation in the y values for our model. Let us now attempt to predict the Z Scores using our sentences as input."
   ]
  },
  {
   "cell_type": "code",
   "execution_count": 53,
   "metadata": {
    "scrolled": true
   },
   "outputs": [
    {
     "name": "stdout",
     "output_type": "stream",
     "text": [
      "Model: \"sequential_2\"\n",
      "_________________________________________________________________\n",
      " Layer (type)                Output Shape              Param #   \n",
      "=================================================================\n",
      " embedding_2 (Embedding)     (None, 766, 300)          8543700   \n",
      "                                                                 \n",
      " lstm_2 (LSTM)               (None, 64)                93440     \n",
      "                                                                 \n",
      " dense_2 (Dense)             (None, 1)                 65        \n",
      "                                                                 \n",
      "=================================================================\n",
      "Total params: 8,637,205\n",
      "Trainable params: 93,505\n",
      "Non-trainable params: 8,543,700\n",
      "_________________________________________________________________\n",
      "Epoch 1/5\n",
      "25/25 [==============================] - 7s 216ms/step - loss: 1.1066 - mse: 1.1066 - mae: 0.8119 - val_loss: 0.8911 - val_mse: 0.8911 - val_mae: 0.7737\n",
      "Epoch 2/5\n",
      "25/25 [==============================] - 5s 216ms/step - loss: 1.0494 - mse: 1.0494 - mae: 0.7861 - val_loss: 0.9096 - val_mse: 0.9096 - val_mae: 0.7815\n",
      "Epoch 3/5\n",
      "25/25 [==============================] - 5s 213ms/step - loss: 1.0551 - mse: 1.0551 - mae: 0.7953 - val_loss: 0.8215 - val_mse: 0.8215 - val_mae: 0.7330\n",
      "Epoch 4/5\n",
      "25/25 [==============================] - 6s 224ms/step - loss: 1.0543 - mse: 1.0543 - mae: 0.7957 - val_loss: 0.7970 - val_mse: 0.7970 - val_mae: 0.7155\n",
      "Epoch 5/5\n",
      "25/25 [==============================] - 6s 228ms/step - loss: 1.0535 - mse: 1.0535 - mae: 0.7920 - val_loss: 0.8842 - val_mse: 0.8842 - val_mae: 0.7667\n"
     ]
    }
   ],
   "source": [
    "X_train, X_test, y_train, y_test = train_test_split(x_matrix, z_cron, test_size=0.20, random_state=200, shuffle=False)\n",
    "\n",
    "# The Model\n",
    "model = Sequential()\n",
    "model.add(Embedding(vocab_size, embedding_width, input_length =max_sentence_length, weights = [embedding_matrix] , trainable = False))\n",
    "model.add(LSTM(64, return_sequences=False))\n",
    "model.add(Dense(1, activation=\"linear\"))\n",
    "\n",
    "# Adam optimizer\n",
    "adam_opt = Adam(learning_rate=0.05, beta_1=0.9, beta_2=0.99, epsilon=1e-05, amsgrad=False,\n",
    "    name='Adam')\n",
    "model.compile(loss='mse',\n",
    "              optimizer=adam_opt,\n",
    "              metrics=['mse','mae'])\n",
    "model.summary()\n",
    "\n",
    "# Train the model\n",
    "train_results = model.fit(X_train, y_train, batch_size=10, epochs=5,\n",
    "           validation_data=(X_test, y_test))"
   ]
  },
  {
   "cell_type": "code",
   "execution_count": 54,
   "metadata": {
    "scrolled": false
   },
   "outputs": [
    {
     "data": {
      "image/png": "[encoded data removed]",
      "text/plain": [
       "<Figure size 432x288 with 1 Axes>"
      ]
     },
     "metadata": {},
     "output_type": "display_data"
    },
    {
     "data": {
      "image/png": "[encoded data removed]",
      "text/plain": [
       "<Figure size 432x288 with 1 Axes>"
      ]
     },
     "metadata": {},
     "output_type": "display_data"
    }
   ],
   "source": [
    "create_error_plots(train_results.history['mse'], train_results.history['mae'], nb_epoch=5)"
   ]
  },
  {
   "cell_type": "code",
   "execution_count": 55,
   "metadata": {
    "scrolled": true
   },
   "outputs": [
    {
     "data": {
      "text/plain": [
       "array([[-0.11606007],\n",
       "       [-0.11606007],\n",
       "       [-0.11606007],\n",
       "       [-0.11606007],\n",
       "       [-0.11606007],\n",
       "       [-0.11606007],\n",
       "       [-0.11606007],\n",
       "       [-0.11606007],\n",
       "       [-0.11606007],\n",
       "       [-0.11606007],\n",
       "       [-0.11606007],\n",
       "       [-0.11606007],\n",
       "       [-0.11606007],\n",
       "       [-0.11606007],\n",
       "       [-0.11606007],\n",
       "       [-0.11606007],\n",
       "       [-0.11606007],\n",
       "       [-0.11606007],\n",
       "       [-0.11606007],\n",
       "       [-0.11606007],\n",
       "       [-0.11606007],\n",
       "       [-0.11606007],\n",
       "       [-0.11606007],\n",
       "       [-0.11606007],\n",
       "       [-0.11606007],\n",
       "       [-0.11606007],\n",
       "       [-0.11606007],\n",
       "       [-0.11606007],\n",
       "       [-0.11606007],\n",
       "       [-0.11606007],\n",
       "       [-0.11606007],\n",
       "       [-0.11606007],\n",
       "       [-0.11606007],\n",
       "       [-0.11606007],\n",
       "       [-0.11606007],\n",
       "       [-0.11606007],\n",
       "       [-0.11606007],\n",
       "       [-0.11606007],\n",
       "       [-0.11606007],\n",
       "       [-0.11606007],\n",
       "       [-0.11606007],\n",
       "       [-0.11606007],\n",
       "       [-0.11606007],\n",
       "       [-0.11606007],\n",
       "       [-0.11606007],\n",
       "       [-0.11606007],\n",
       "       [-0.11606007],\n",
       "       [-0.11606007],\n",
       "       [-0.12523533],\n",
       "       [-0.11606007],\n",
       "       [-0.11606007],\n",
       "       [-0.11606007],\n",
       "       [-0.11606007],\n",
       "       [-0.11606007],\n",
       "       [-0.11606007],\n",
       "       [-0.11606007],\n",
       "       [-0.11606007],\n",
       "       [-0.11606007],\n",
       "       [-0.11606007],\n",
       "       [-0.11606007],\n",
       "       [-0.11606007],\n",
       "       [-0.11606007]], dtype=float32)"
      ]
     },
     "execution_count": 55,
     "metadata": {},
     "output_type": "execute_result"
    }
   ],
   "source": [
    "y_pred = model.predict(X_test)\n",
    "y_pred"
   ]
  },
  {
   "cell_type": "code",
   "execution_count": 56,
   "metadata": {
    "scrolled": true
   },
   "outputs": [
    {
     "name": "stdout",
     "output_type": "stream",
     "text": [
      "-61.840060100756645\n"
     ]
    }
   ],
   "source": [
    "# Get R-Squared for the model\n",
    "print(float(get_rsquared_for_model(z_cron, y_pred)))"
   ]
  },
  {
   "cell_type": "code",
   "execution_count": 57,
   "metadata": {},
   "outputs": [
    {
     "name": "stdout",
     "output_type": "stream",
     "text": [
      "Mean Cronbach's Alpha Z Score: -3.126251497819235e-16\n",
      "Median Cronbach's Alpha Z Score: 0.14622753874161587\n",
      "Mode Cronbach's Alpha Z Score: -0.12298814607784596\n"
     ]
    }
   ],
   "source": [
    "print(\"Mean Cronbach's Alpha Z Score:\", str(statistics.mean(z_cron)))\n",
    "print(\"Median Cronbach's Alpha Z Score:\", str(statistics.median(z_cron)))\n",
    "print(\"Mode Cronbach's Alpha Z Score:\", str(statistics.mode(z_cron)))"
   ]
  },
  {
   "cell_type": "markdown",
   "metadata": {},
   "source": [
    "#### OBSERVATIONS AND INFERENCES\n",
    "The previous issue of the model predicting a value close to the median of the original output variables persists. So the increase in the variance of the output variable by using z scores did not have the intended effect."
   ]
  },
  {
   "cell_type": "markdown",
   "metadata": {},
   "source": [
    "# Convert to classification problem"
   ]
  },
  {
   "cell_type": "code",
   "execution_count": 58,
   "metadata": {},
   "outputs": [
    {
     "data": {
      "text/html": [
       "<div>\n",
       "<style scoped>\n",
       "    .dataframe tbody tr th:only-of-type {\n",
       "        vertical-align: middle;\n",
       "    }\n",
       "\n",
       "    .dataframe tbody tr th {\n",
       "        vertical-align: top;\n",
       "    }\n",
       "\n",
       "    .dataframe thead th {\n",
       "        text-align: right;\n",
       "    }\n",
       "</style>\n",
       "<table border=\"1\" class=\"dataframe\">\n",
       "  <thead>\n",
       "    <tr style=\"text-align: right;\">\n",
       "      <th></th>\n",
       "      <th>z</th>\n",
       "      <th>Class</th>\n",
       "    </tr>\n",
       "  </thead>\n",
       "  <tbody>\n",
       "    <tr>\n",
       "      <th>0</th>\n",
       "      <td>0.738502</td>\n",
       "      <td>0</td>\n",
       "    </tr>\n",
       "    <tr>\n",
       "      <th>1</th>\n",
       "      <td>0.307757</td>\n",
       "      <td>0</td>\n",
       "    </tr>\n",
       "    <tr>\n",
       "      <th>2</th>\n",
       "      <td>-1.092165</td>\n",
       "      <td>2</td>\n",
       "    </tr>\n",
       "    <tr>\n",
       "      <th>3</th>\n",
       "      <td>-0.553733</td>\n",
       "      <td>0</td>\n",
       "    </tr>\n",
       "    <tr>\n",
       "      <th>4</th>\n",
       "      <td>1.169247</td>\n",
       "      <td>1</td>\n",
       "    </tr>\n",
       "    <tr>\n",
       "      <th>...</th>\n",
       "      <td>...</td>\n",
       "      <td>...</td>\n",
       "    </tr>\n",
       "    <tr>\n",
       "      <th>319</th>\n",
       "      <td>-0.122988</td>\n",
       "      <td>0</td>\n",
       "    </tr>\n",
       "    <tr>\n",
       "      <th>323</th>\n",
       "      <td>-0.446047</td>\n",
       "      <td>0</td>\n",
       "    </tr>\n",
       "    <tr>\n",
       "      <th>324</th>\n",
       "      <td>0.092384</td>\n",
       "      <td>0</td>\n",
       "    </tr>\n",
       "    <tr>\n",
       "      <th>325</th>\n",
       "      <td>0.200071</td>\n",
       "      <td>0</td>\n",
       "    </tr>\n",
       "    <tr>\n",
       "      <th>326</th>\n",
       "      <td>1.276933</td>\n",
       "      <td>1</td>\n",
       "    </tr>\n",
       "  </tbody>\n",
       "</table>\n",
       "<p>310 rows × 2 columns</p>\n",
       "</div>"
      ],
      "text/plain": [
       "            z  Class\n",
       "0    0.738502      0\n",
       "1    0.307757      0\n",
       "2   -1.092165      2\n",
       "3   -0.553733      0\n",
       "4    1.169247      1\n",
       "..        ...    ...\n",
       "319 -0.122988      0\n",
       "323 -0.446047      0\n",
       "324  0.092384      0\n",
       "325  0.200071      0\n",
       "326  1.276933      1\n",
       "\n",
       "[310 rows x 2 columns]"
      ]
     },
     "execution_count": 58,
     "metadata": {},
     "output_type": "execute_result"
    }
   ],
   "source": [
    "cron_classification = pd.DataFrame({'z':(y_cron-mean_cron)/stdev_cron})\n",
    "mean_z = statistics.mean(z_cron)\n",
    "stdev_z = statistics.stdev(z_cron)\n",
    "\n",
    "class_column = []\n",
    "for row in list(cron_classification.index):\n",
    "    if cron_classification.loc[row,'z']<=mean_z+stdev_z and cron_classification.loc[row,'z']>=mean_z-stdev_z:\n",
    "        class_column.append(0)\n",
    "    elif cron_classification.loc[row,'z']>mean_z+stdev_z:\n",
    "        class_column.append(1)\n",
    "    elif cron_classification.loc[row,'z']<mean_z-stdev_z and cron_classification.loc[row,'z']>=mean_z-(2*stdev_z):\n",
    "        class_column.append(2)\n",
    "    else:\n",
    "        class_column.append(3)\n",
    "\n",
    "cron_classification['Class'] = class_column\n",
    "cron_classification"
   ]
  },
  {
   "cell_type": "code",
   "execution_count": 59,
   "metadata": {},
   "outputs": [
    {
     "data": {
      "text/plain": [
       "<AxesSubplot:xlabel='Class', ylabel='Count'>"
      ]
     },
     "execution_count": 59,
     "metadata": {},
     "output_type": "execute_result"
    },
    {
     "data": {
      "image/png": "[encoded data removed]",
      "text/plain": [
       "<Figure size 432x288 with 1 Axes>"
      ]
     },
     "metadata": {},
     "output_type": "display_data"
    }
   ],
   "source": [
    "sns.histplot(cron_classification['Class'])"
   ]
  },
  {
   "cell_type": "code",
   "execution_count": 60,
   "metadata": {
    "scrolled": true
   },
   "outputs": [
    {
     "name": "stdout",
     "output_type": "stream",
     "text": [
      "Model: \"sequential_3\"\n",
      "_________________________________________________________________\n",
      " Layer (type)                Output Shape              Param #   \n",
      "=================================================================\n",
      " embedding_3 (Embedding)     (None, 766, 300)          8543700   \n",
      "                                                                 \n",
      " lstm_3 (LSTM)               (None, 64)                93440     \n",
      "                                                                 \n",
      " dense_3 (Dense)             (None, 4)                 260       \n",
      "                                                                 \n",
      "=================================================================\n",
      "Total params: 8,637,400\n",
      "Trainable params: 93,700\n",
      "Non-trainable params: 8,543,700\n",
      "_________________________________________________________________\n",
      "Epoch 1/5\n",
      "25/25 [==============================] - 7s 222ms/step - loss: 1.2585 - accuracy: 0.5927 - val_loss: 0.8574 - val_accuracy: 0.6935\n",
      "Epoch 2/5\n",
      "25/25 [==============================] - 5s 205ms/step - loss: 1.0529 - accuracy: 0.7016 - val_loss: 0.9365 - val_accuracy: 0.6935\n",
      "Epoch 3/5\n",
      "25/25 [==============================] - 5s 209ms/step - loss: 0.9269 - accuracy: 0.7016 - val_loss: 0.8985 - val_accuracy: 0.6935\n",
      "Epoch 4/5\n",
      "25/25 [==============================] - 5s 220ms/step - loss: 0.9573 - accuracy: 0.7016 - val_loss: 0.9099 - val_accuracy: 0.6935\n",
      "Epoch 5/5\n",
      "25/25 [==============================] - 5s 212ms/step - loss: 0.9471 - accuracy: 0.7016 - val_loss: 0.8754 - val_accuracy: 0.6935\n"
     ]
    }
   ],
   "source": [
    "X_train, X_test, y_train, y_test = train_test_split(x_matrix, cron_classification['Class'], test_size=0.20, random_state=200, shuffle=False)\n",
    "\n",
    "# The Model\n",
    "model = Sequential()\n",
    "model.add(Embedding(vocab_size, embedding_width, input_length =max_sentence_length, weights = [embedding_matrix] , trainable = False))\n",
    "model.add(LSTM(64, return_sequences=False))\n",
    "model.add(Dense(4, activation=\"softmax\"))\n",
    "\n",
    "# Adam optimizer\n",
    "adam_opt = Adam(learning_rate=0.05, beta_1=0.9, beta_2=0.99, epsilon=1e-05, amsgrad=False,\n",
    "    name='Adam')\n",
    "model.compile(loss='sparse_categorical_crossentropy',\n",
    "              optimizer=adam_opt,\n",
    "              metrics=['accuracy'])\n",
    "model.summary()\n",
    "\n",
    "# Train the model\n",
    "train_results = model.fit(X_train, y_train, batch_size=10, epochs=5,\n",
    "           validation_data=(X_test, y_test))"
   ]
  },
  {
   "cell_type": "code",
   "execution_count": 61,
   "metadata": {
    "scrolled": true
   },
   "outputs": [
    {
     "data": {
      "image/png": "[encoded data removed]",
      "text/plain": [
       "<Figure size 432x288 with 1 Axes>"
      ]
     },
     "metadata": {},
     "output_type": "display_data"
    }
   ],
   "source": [
    "x = range(nb_epoch)\n",
    "plt.plot(x, train_results.history['accuracy'], label=\"Accuracy\")\n",
    "plt.legend(loc='center left', bbox_to_anchor=(1, 0.5))\n",
    "plt.show()"
   ]
  },
  {
   "cell_type": "code",
   "execution_count": 62,
   "metadata": {
    "scrolled": true
   },
   "outputs": [],
   "source": [
    "train_predictions = model.predict(X_train)\n",
    "\n",
    "predicted_class_train = []\n",
    "for row in train_predictions:\n",
    "    predicted_class_train.append(np.argmax(row))"
   ]
  },
  {
   "cell_type": "code",
   "execution_count": 63,
   "metadata": {},
   "outputs": [
    {
     "data": {
      "text/plain": [
       "array([[174,   0,   0,   0],\n",
       "       [ 33,   0,   0,   0],\n",
       "       [ 29,   0,   0,   0],\n",
       "       [ 12,   0,   0,   0]], dtype=int64)"
      ]
     },
     "execution_count": 63,
     "metadata": {},
     "output_type": "execute_result"
    }
   ],
   "source": [
    "from sklearn.metrics import confusion_matrix,accuracy_score\n",
    "\n",
    "confusion_matrix(y_train, predicted_class_train)"
   ]
  },
  {
   "cell_type": "code",
   "execution_count": 64,
   "metadata": {
    "scrolled": true
   },
   "outputs": [
    {
     "name": "stdout",
     "output_type": "stream",
     "text": [
      "The accuracy over training set:  0.7016129032258065\n"
     ]
    }
   ],
   "source": [
    "print(\"The accuracy over training set: \",str(accuracy_score(y_train,predicted_class_train)))"
   ]
  },
  {
   "cell_type": "code",
   "execution_count": 66,
   "metadata": {
    "scrolled": true
   },
   "outputs": [
    {
     "data": {
      "text/plain": [
       "array([[0.69083095, 0.14387138, 0.11452536, 0.05077237],\n",
       "       [0.69083095, 0.14387138, 0.11452536, 0.05077237],\n",
       "       [0.69083095, 0.14387138, 0.11452536, 0.05077237],\n",
       "       [0.69083095, 0.14387138, 0.11452536, 0.05077237],\n",
       "       [0.69083095, 0.14387138, 0.11452537, 0.05077237],\n",
       "       [0.69083095, 0.14387138, 0.11452537, 0.05077237],\n",
       "       [0.69083095, 0.14387138, 0.11452536, 0.05077237],\n",
       "       [0.69083095, 0.14387138, 0.11452537, 0.05077237],\n",
       "       [0.69083095, 0.14387138, 0.11452536, 0.05077237],\n",
       "       [0.69083095, 0.14387138, 0.11452536, 0.05077237],\n",
       "       [0.69083095, 0.14387138, 0.11452537, 0.05077237],\n",
       "       [0.69083095, 0.14387138, 0.11452536, 0.05077237],\n",
       "       [0.69083095, 0.14387138, 0.11452536, 0.05077237],\n",
       "       [0.69083095, 0.14387138, 0.11452537, 0.05077237],\n",
       "       [0.69083095, 0.14387138, 0.11452536, 0.05077237],\n",
       "       [0.69083095, 0.14387138, 0.11452536, 0.05077237],\n",
       "       [0.69083095, 0.14387138, 0.11452537, 0.05077237],\n",
       "       [0.69083095, 0.14387138, 0.11452537, 0.05077237],\n",
       "       [0.69083095, 0.14387138, 0.11452536, 0.05077237],\n",
       "       [0.69083095, 0.14387138, 0.11452537, 0.05077237],\n",
       "       [0.69083095, 0.14387138, 0.11452536, 0.05077237],\n",
       "       [0.69083095, 0.14387138, 0.11452537, 0.05077237],\n",
       "       [0.69083095, 0.14387138, 0.11452537, 0.05077237],\n",
       "       [0.69083095, 0.14387138, 0.11452536, 0.05077237],\n",
       "       [0.69083095, 0.14387138, 0.11452537, 0.05077237],\n",
       "       [0.69083095, 0.14387138, 0.11452537, 0.05077237],\n",
       "       [0.69083095, 0.14387138, 0.11452537, 0.05077237],\n",
       "       [0.69083095, 0.14387138, 0.11452537, 0.05077237],\n",
       "       [0.69083095, 0.14387138, 0.11452537, 0.05077237],\n",
       "       [0.69083095, 0.14387138, 0.11452537, 0.05077237],\n",
       "       [0.69083095, 0.14387138, 0.11452537, 0.05077237],\n",
       "       [0.69083095, 0.14387138, 0.11452537, 0.05077237],\n",
       "       [0.69083095, 0.14387138, 0.11452536, 0.05077237],\n",
       "       [0.69083095, 0.14387138, 0.11452537, 0.05077237],\n",
       "       [0.69083095, 0.14387138, 0.11452536, 0.05077237],\n",
       "       [0.69083095, 0.14387138, 0.11452537, 0.05077237],\n",
       "       [0.69083095, 0.14387138, 0.11452537, 0.05077237],\n",
       "       [0.69083095, 0.14387138, 0.11452537, 0.05077237],\n",
       "       [0.69083095, 0.14387138, 0.11452536, 0.05077237],\n",
       "       [0.69083095, 0.14387138, 0.11452536, 0.05077237],\n",
       "       [0.69083095, 0.14387138, 0.11452537, 0.05077237],\n",
       "       [0.69083095, 0.14387138, 0.11452536, 0.05077237],\n",
       "       [0.69083095, 0.14387138, 0.11452536, 0.05077237],\n",
       "       [0.69083095, 0.14387138, 0.11452536, 0.05077237],\n",
       "       [0.69083095, 0.14387138, 0.11452536, 0.05077237],\n",
       "       [0.69083095, 0.14387138, 0.11452536, 0.05077237],\n",
       "       [0.69083095, 0.14387138, 0.11452537, 0.05077237],\n",
       "       [0.69083095, 0.14387138, 0.11452537, 0.05077237],\n",
       "       [0.4619776 , 0.17433624, 0.1980128 , 0.16567339],\n",
       "       [0.69083095, 0.14387138, 0.11452536, 0.05077237],\n",
       "       [0.69083095, 0.14387138, 0.11452536, 0.05077237],\n",
       "       [0.69083095, 0.14387138, 0.11452536, 0.05077237],\n",
       "       [0.69083095, 0.14387137, 0.11452536, 0.05077235],\n",
       "       [0.69083095, 0.14387138, 0.11452537, 0.05077237],\n",
       "       [0.69083095, 0.14387138, 0.11452536, 0.05077237],\n",
       "       [0.69083095, 0.14387138, 0.11452537, 0.05077237],\n",
       "       [0.69083095, 0.14387138, 0.11452536, 0.05077237],\n",
       "       [0.69083095, 0.14387138, 0.11452536, 0.05077237],\n",
       "       [0.69083095, 0.14387138, 0.11452537, 0.05077237],\n",
       "       [0.69083095, 0.14387138, 0.11452536, 0.05077237],\n",
       "       [0.69083095, 0.14387138, 0.11452536, 0.05077237],\n",
       "       [0.69083095, 0.14387138, 0.11452536, 0.05077237]], dtype=float32)"
      ]
     },
     "execution_count": 66,
     "metadata": {},
     "output_type": "execute_result"
    }
   ],
   "source": [
    "y_pred = model.predict(X_test)\n",
    "y_pred"
   ]
  },
  {
   "cell_type": "code",
   "execution_count": 69,
   "metadata": {},
   "outputs": [
    {
     "name": "stdout",
     "output_type": "stream",
     "text": [
      "The accuracy over testing set:  0.6935483870967742\n"
     ]
    }
   ],
   "source": [
    "test_predictions = model.predict(X_test)\n",
    "\n",
    "predicted_class_test = []\n",
    "for row in test_predictions:\n",
    "    predicted_class_test.append(np.argmax(row))\n",
    "\n",
    "print(\"The accuracy over testing set: \",str(accuracy_score(y_test, predicted_class_test)))"
   ]
  },
  {
   "cell_type": "markdown",
   "metadata": {},
   "source": [
    "#### OBSERVATIONS AND INFERENCES\n",
    "The previous issue of the model predicting a value close to the median of the original output variables persists. So the increase in the variance of the output variable by using z scores did not have the intended effect."
   ]
  },
  {
   "cell_type": "markdown",
   "metadata": {},
   "source": [
    "# Using Sentence Transformers"
   ]
  },
  {
   "cell_type": "code",
   "execution_count": 70,
   "metadata": {
    "scrolled": true
   },
   "outputs": [],
   "source": [
    "# Import sentence transformers model\n",
    "from sentence_transformers import SentenceTransformer\n",
    "model = SentenceTransformer('all-mpnet-base-v2')"
   ]
  },
  {
   "cell_type": "code",
   "execution_count": 71,
   "metadata": {
    "scrolled": true
   },
   "outputs": [
    {
     "data": {
      "text/plain": [
       "0      Sleep induction (time it takes you to fall asl...\n",
       "1      It is exciting to figure out new ways to solve...\n",
       "2      Establishing a new company excites me.; Owning...\n",
       "3      I really like finding the right people to mark...\n",
       "4      If I should find myself in a jam, I could thin...\n",
       "                             ...                        \n",
       "319    I consider myself an athlete.; I have many goa...\n",
       "323    I think in detail about costs and benefits.; I...\n",
       "324    I trust my gut instinct.I trust my feelings.; ...\n",
       "325    I ask friends to give me advice.; I think of s...\n",
       "326    I rely on spiritual discernment.; I use spirit...\n",
       "Name: ItemTexts13, Length: 310, dtype: object"
      ]
     },
     "execution_count": 71,
     "metadata": {},
     "output_type": "execute_result"
    }
   ],
   "source": [
    "sentences"
   ]
  },
  {
   "cell_type": "code",
   "execution_count": 72,
   "metadata": {},
   "outputs": [],
   "source": [
    "sentences_list = []\n",
    "\n",
    "for sentence in list(sentences):\n",
    "    sentences_list.append(sentence.split(\";\"))"
   ]
  },
  {
   "cell_type": "code",
   "execution_count": 73,
   "metadata": {},
   "outputs": [],
   "source": [
    "encoded_sentences = []\n",
    "\n",
    "for sentence in list(sentences):\n",
    "    encoded_sentences.append(model.encode(sentence.split(\";\")))"
   ]
  },
  {
   "cell_type": "markdown",
   "metadata": {},
   "source": [
    "##### Some diagnosis to check encodings"
   ]
  },
  {
   "cell_type": "markdown",
   "metadata": {},
   "source": [
    "check if the length of both variables is equal"
   ]
  },
  {
   "cell_type": "code",
   "execution_count": 74,
   "metadata": {
    "scrolled": true
   },
   "outputs": [
    {
     "data": {
      "text/plain": [
       "310"
      ]
     },
     "execution_count": 74,
     "metadata": {},
     "output_type": "execute_result"
    }
   ],
   "source": [
    "len(sentences)"
   ]
  },
  {
   "cell_type": "code",
   "execution_count": 75,
   "metadata": {
    "scrolled": true
   },
   "outputs": [
    {
     "data": {
      "text/plain": [
       "310"
      ]
     },
     "execution_count": 75,
     "metadata": {},
     "output_type": "execute_result"
    }
   ],
   "source": [
    "len(encoded_sentences)"
   ]
  },
  {
   "cell_type": "markdown",
   "metadata": {},
   "source": [
    "Check if each of the sub sentences in the first input is broken down and represented as a sentence transformer"
   ]
  },
  {
   "cell_type": "code",
   "execution_count": 76,
   "metadata": {
    "scrolled": true
   },
   "outputs": [
    {
     "data": {
      "text/plain": [
       "(8, 768)"
      ]
     },
     "execution_count": 76,
     "metadata": {},
     "output_type": "execute_result"
    }
   ],
   "source": [
    "encoded_sentences[0].shape"
   ]
  },
  {
   "cell_type": "code",
   "execution_count": 77,
   "metadata": {
    "scrolled": true
   },
   "outputs": [
    {
     "name": "stdout",
     "output_type": "stream",
     "text": [
      "Sleep induction (time it takes you to fall asleep after turning-off the lights) 79\n",
      " Awakenings during the night 28\n",
      " Final awakening earlier than desired 37\n",
      " Total sleep duration 21\n",
      " Overall quality of sleep (no matter how long you slept) 56\n",
      " Sense of well-being during the day 35\n",
      " Functioning (physical and mental) during the day 49\n",
      " Sleepiness during the day 26\n"
     ]
    }
   ],
   "source": [
    "for i in range(len(sentences_list[0])):\n",
    "    print(sentences_list[0][i], len(sentences_list[0][i]))"
   ]
  },
  {
   "cell_type": "code",
   "execution_count": 78,
   "metadata": {
    "scrolled": true
   },
   "outputs": [
    {
     "name": "stdout",
     "output_type": "stream",
     "text": [
      "79 (768,)\n",
      "28 (768,)\n",
      "37 (768,)\n",
      "21 (768,)\n",
      "56 (768,)\n",
      "35 (768,)\n",
      "49 (768,)\n",
      "26 (768,)\n"
     ]
    }
   ],
   "source": [
    "for i in range(len(sentences_list[0])):\n",
    "    print(len(sentences_list[0][i]), (model.encode(sentences_list[0][5])).shape)"
   ]
  },
  {
   "cell_type": "markdown",
   "metadata": {},
   "source": [
    "##### Create cosine similarity matrix"
   ]
  },
  {
   "cell_type": "code",
   "execution_count": 79,
   "metadata": {},
   "outputs": [
    {
     "data": {
      "text/plain": [
       "55"
      ]
     },
     "execution_count": 79,
     "metadata": {},
     "output_type": "execute_result"
    }
   ],
   "source": [
    "# find maximum number of sentences among all the inputs\n",
    "max_sentence_count = max([len(sentence.split(\";\")) for sentence in sentences])\n",
    "max_sentence_count"
   ]
  },
  {
   "cell_type": "code",
   "execution_count": 80,
   "metadata": {},
   "outputs": [
    {
     "data": {
      "text/plain": [
       "(310, 55)"
      ]
     },
     "execution_count": 80,
     "metadata": {},
     "output_type": "execute_result"
    }
   ],
   "source": [
    "# create an array of zeroes with the number of inputs as number of rows\n",
    "# and maximum number of sentences among all the inputs as the columns\n",
    "cos_dist_matrix = np.zeros((len(encoded_sentences),max_sentence_count))\n",
    "cos_dist_matrix.shape"
   ]
  },
  {
   "cell_type": "code",
   "execution_count": 81,
   "metadata": {
    "scrolled": true
   },
   "outputs": [
    {
     "data": {
      "text/plain": [
       "-1.0"
      ]
     },
     "execution_count": 81,
     "metadata": {},
     "output_type": "execute_result"
    }
   ],
   "source": [
    "# test cosine_similarity function\n",
    "cosine_similarity(encoded_sentences[0][0].reshape(-1, 1),encoded_sentences[1][4].reshape(-1, 1))[0][0]"
   ]
  },
  {
   "cell_type": "code",
   "execution_count": 82,
   "metadata": {},
   "outputs": [],
   "source": [
    "# populate the cosine similarity matrix\n",
    "for row in range(len(encoded_sentences)):\n",
    "    for column in range(len(encoded_sentences[row])-1):\n",
    "        cos_dist_matrix[row, column] = cosine_similarity(encoded_sentences[row][column].reshape(-1, 1),encoded_sentences[row][column+1].reshape(-1, 1))[0][0]"
   ]
  },
  {
   "cell_type": "code",
   "execution_count": 83,
   "metadata": {
    "scrolled": false
   },
   "outputs": [
    {
     "data": {
      "text/plain": [
       "array([ 1., -1.,  1., -1., -1., -1., -1., -1., -1.,  1.,  1.,  1.,  1.,\n",
       "        1., -1., -1.,  0.,  0.,  0.,  0.,  0.,  0.,  0.,  0.,  0.,  0.,\n",
       "        0.,  0.,  0.,  0.,  0.,  0.,  0.,  0.,  0.,  0.,  0.,  0.,  0.,\n",
       "        0.,  0.,  0.,  0.,  0.,  0.,  0.,  0.,  0.,  0.,  0.,  0.,  0.,\n",
       "        0.,  0.,  0.])"
      ]
     },
     "execution_count": 83,
     "metadata": {},
     "output_type": "execute_result"
    }
   ],
   "source": [
    "cos_dist_matrix[5]"
   ]
  },
  {
   "cell_type": "markdown",
   "metadata": {},
   "source": [
    "##### Model for Cronbach Alpha Prediction"
   ]
  },
  {
   "cell_type": "code",
   "execution_count": 84,
   "metadata": {},
   "outputs": [],
   "source": [
    "X = cos_dist_matrix\n",
    "y = dataset['CronAlpha9'].apply(float)"
   ]
  },
  {
   "cell_type": "code",
   "execution_count": 85,
   "metadata": {},
   "outputs": [],
   "source": [
    "X_train, X_test, y_train, y_test = train_test_split(X, y, test_size=0.20, random_state=200, shuffle=False)"
   ]
  },
  {
   "cell_type": "code",
   "execution_count": 86,
   "metadata": {},
   "outputs": [],
   "source": [
    "from keras.callbacks import ModelCheckpoint\n",
    "from keras.models import Sequential\n",
    "from keras.layers import Dense, Activation, Flatten\n",
    "from sklearn.model_selection import train_test_split\n",
    "from sklearn.ensemble import RandomForestRegressor\n",
    "from sklearn.metrics import mean_absolute_error, mean_squared_error"
   ]
  },
  {
   "cell_type": "markdown",
   "metadata": {},
   "source": [
    "###### 100 epochs"
   ]
  },
  {
   "cell_type": "code",
   "execution_count": 97,
   "metadata": {},
   "outputs": [
    {
     "name": "stdout",
     "output_type": "stream",
     "text": [
      "Model: \"sequential_6\"\n",
      "_________________________________________________________________\n",
      " Layer (type)                Output Shape              Param #   \n",
      "=================================================================\n",
      " dense_14 (Dense)            (None, 128)               7168      \n",
      "                                                                 \n",
      " dense_15 (Dense)            (None, 256)               33024     \n",
      "                                                                 \n",
      " dense_16 (Dense)            (None, 256)               65792     \n",
      "                                                                 \n",
      " dense_17 (Dense)            (None, 256)               65792     \n",
      "                                                                 \n",
      " dense_18 (Dense)            (None, 1)                 257       \n",
      "                                                                 \n",
      "=================================================================\n",
      "Total params: 172,033\n",
      "Trainable params: 172,033\n",
      "Non-trainable params: 0\n",
      "_________________________________________________________________\n"
     ]
    }
   ],
   "source": [
    "NN_model = Sequential()\n",
    "\n",
    "# The Input Layer :\n",
    "NN_model.add(Dense(128, kernel_initializer='normal',input_dim = X_train.shape[1], activation='relu'))\n",
    "\n",
    "# The Hidden Layers :\n",
    "NN_model.add(Dense(256, kernel_initializer='normal',activation='relu'))\n",
    "NN_model.add(Dense(256, kernel_initializer='normal',activation='relu'))\n",
    "NN_model.add(Dense(256, kernel_initializer='normal',activation='relu'))\n",
    "\n",
    "# The Output Layer :\n",
    "NN_model.add(Dense(1, kernel_initializer='normal',activation='linear'))\n",
    "\n",
    "# Compile the network :\n",
    "NN_model.compile(loss='mean_absolute_error', optimizer='adam', metrics=['mean_absolute_error'])\n",
    "NN_model.summary()"
   ]
  },
  {
   "cell_type": "code",
   "execution_count": 98,
   "metadata": {
    "scrolled": true
   },
   "outputs": [
    {
     "name": "stdout",
     "output_type": "stream",
     "text": [
      "Epoch 1/100\n",
      "7/7 [==============================] - 1s 36ms/step - loss: 0.6502 - mean_absolute_error: 0.6502 - val_loss: 0.2336 - val_mean_absolute_error: 0.2336\n",
      "Epoch 2/100\n",
      "7/7 [==============================] - 0s 13ms/step - loss: 0.2388 - mean_absolute_error: 0.2388 - val_loss: 0.2365 - val_mean_absolute_error: 0.2365\n",
      "Epoch 3/100\n",
      "7/7 [==============================] - 0s 11ms/step - loss: 0.2171 - mean_absolute_error: 0.2171 - val_loss: 0.1521 - val_mean_absolute_error: 0.1521\n",
      "Epoch 4/100\n",
      "7/7 [==============================] - 0s 11ms/step - loss: 0.1498 - mean_absolute_error: 0.1498 - val_loss: 0.1282 - val_mean_absolute_error: 0.1282\n",
      "Epoch 5/100\n",
      "7/7 [==============================] - 0s 11ms/step - loss: 0.1136 - mean_absolute_error: 0.1136 - val_loss: 0.0992 - val_mean_absolute_error: 0.0992\n",
      "Epoch 6/100\n",
      "7/7 [==============================] - 0s 12ms/step - loss: 0.0947 - mean_absolute_error: 0.0947 - val_loss: 0.0970 - val_mean_absolute_error: 0.0970\n",
      "Epoch 7/100\n",
      "7/7 [==============================] - 0s 11ms/step - loss: 0.0735 - mean_absolute_error: 0.0735 - val_loss: 0.0801 - val_mean_absolute_error: 0.0801\n",
      "Epoch 8/100\n",
      "7/7 [==============================] - 0s 11ms/step - loss: 0.0651 - mean_absolute_error: 0.0651 - val_loss: 0.0816 - val_mean_absolute_error: 0.0816\n",
      "Epoch 9/100\n",
      "7/7 [==============================] - 0s 11ms/step - loss: 0.0610 - mean_absolute_error: 0.0610 - val_loss: 0.0957 - val_mean_absolute_error: 0.0957\n",
      "Epoch 10/100\n",
      "7/7 [==============================] - 0s 11ms/step - loss: 0.0728 - mean_absolute_error: 0.0728 - val_loss: 0.0809 - val_mean_absolute_error: 0.0809\n",
      "Epoch 11/100\n",
      "7/7 [==============================] - 0s 11ms/step - loss: 0.0653 - mean_absolute_error: 0.0653 - val_loss: 0.0796 - val_mean_absolute_error: 0.0796\n",
      "Epoch 12/100\n",
      "7/7 [==============================] - 0s 10ms/step - loss: 0.0599 - mean_absolute_error: 0.0599 - val_loss: 0.0853 - val_mean_absolute_error: 0.0853\n",
      "Epoch 13/100\n",
      "7/7 [==============================] - 0s 11ms/step - loss: 0.0717 - mean_absolute_error: 0.0717 - val_loss: 0.0872 - val_mean_absolute_error: 0.0872\n",
      "Epoch 14/100\n",
      "7/7 [==============================] - 0s 11ms/step - loss: 0.0607 - mean_absolute_error: 0.0607 - val_loss: 0.0861 - val_mean_absolute_error: 0.0861\n",
      "Epoch 15/100\n",
      "7/7 [==============================] - 0s 9ms/step - loss: 0.0691 - mean_absolute_error: 0.0691 - val_loss: 0.0800 - val_mean_absolute_error: 0.0800\n",
      "Epoch 16/100\n",
      "7/7 [==============================] - 0s 12ms/step - loss: 0.0620 - mean_absolute_error: 0.0620 - val_loss: 0.0846 - val_mean_absolute_error: 0.0846\n",
      "Epoch 17/100\n",
      "7/7 [==============================] - 0s 11ms/step - loss: 0.0564 - mean_absolute_error: 0.0564 - val_loss: 0.0882 - val_mean_absolute_error: 0.0882\n",
      "Epoch 18/100\n",
      "7/7 [==============================] - 0s 9ms/step - loss: 0.0589 - mean_absolute_error: 0.0589 - val_loss: 0.0796 - val_mean_absolute_error: 0.0796\n",
      "Epoch 19/100\n",
      "7/7 [==============================] - 0s 8ms/step - loss: 0.0593 - mean_absolute_error: 0.0593 - val_loss: 0.0833 - val_mean_absolute_error: 0.0833\n",
      "Epoch 20/100\n",
      "7/7 [==============================] - 0s 9ms/step - loss: 0.0673 - mean_absolute_error: 0.0673 - val_loss: 0.0806 - val_mean_absolute_error: 0.0806\n",
      "Epoch 21/100\n",
      "7/7 [==============================] - 0s 9ms/step - loss: 0.0606 - mean_absolute_error: 0.0606 - val_loss: 0.0831 - val_mean_absolute_error: 0.0831\n",
      "Epoch 22/100\n",
      "7/7 [==============================] - 0s 9ms/step - loss: 0.0538 - mean_absolute_error: 0.0538 - val_loss: 0.0903 - val_mean_absolute_error: 0.0903\n",
      "Epoch 23/100\n",
      "7/7 [==============================] - 0s 9ms/step - loss: 0.0556 - mean_absolute_error: 0.0556 - val_loss: 0.0797 - val_mean_absolute_error: 0.0797\n",
      "Epoch 24/100\n",
      "7/7 [==============================] - 0s 8ms/step - loss: 0.0578 - mean_absolute_error: 0.0578 - val_loss: 0.0806 - val_mean_absolute_error: 0.0806\n",
      "Epoch 25/100\n",
      "7/7 [==============================] - 0s 9ms/step - loss: 0.0664 - mean_absolute_error: 0.0664 - val_loss: 0.0777 - val_mean_absolute_error: 0.0777\n",
      "Epoch 26/100\n",
      "7/7 [==============================] - 0s 9ms/step - loss: 0.0544 - mean_absolute_error: 0.0544 - val_loss: 0.0804 - val_mean_absolute_error: 0.0804\n",
      "Epoch 27/100\n",
      "7/7 [==============================] - 0s 8ms/step - loss: 0.0577 - mean_absolute_error: 0.0577 - val_loss: 0.0910 - val_mean_absolute_error: 0.0910\n",
      "Epoch 28/100\n",
      "7/7 [==============================] - 0s 7ms/step - loss: 0.0632 - mean_absolute_error: 0.0632 - val_loss: 0.0842 - val_mean_absolute_error: 0.0842\n",
      "Epoch 29/100\n",
      "7/7 [==============================] - 0s 8ms/step - loss: 0.0605 - mean_absolute_error: 0.0605 - val_loss: 0.0746 - val_mean_absolute_error: 0.0746\n",
      "Epoch 30/100\n",
      "7/7 [==============================] - 0s 9ms/step - loss: 0.0548 - mean_absolute_error: 0.0548 - val_loss: 0.0779 - val_mean_absolute_error: 0.0779\n",
      "Epoch 31/100\n",
      "7/7 [==============================] - 0s 9ms/step - loss: 0.0551 - mean_absolute_error: 0.0551 - val_loss: 0.0767 - val_mean_absolute_error: 0.0767\n",
      "Epoch 32/100\n",
      "7/7 [==============================] - 0s 8ms/step - loss: 0.0593 - mean_absolute_error: 0.0593 - val_loss: 0.0792 - val_mean_absolute_error: 0.0792\n",
      "Epoch 33/100\n",
      "7/7 [==============================] - 0s 8ms/step - loss: 0.0605 - mean_absolute_error: 0.0605 - val_loss: 0.0851 - val_mean_absolute_error: 0.0851\n",
      "Epoch 34/100\n",
      "7/7 [==============================] - 0s 7ms/step - loss: 0.0537 - mean_absolute_error: 0.0537 - val_loss: 0.0794 - val_mean_absolute_error: 0.0794\n",
      "Epoch 35/100\n",
      "7/7 [==============================] - 0s 9ms/step - loss: 0.0569 - mean_absolute_error: 0.0569 - val_loss: 0.0834 - val_mean_absolute_error: 0.0834\n",
      "Epoch 36/100\n",
      "7/7 [==============================] - 0s 10ms/step - loss: 0.0577 - mean_absolute_error: 0.0577 - val_loss: 0.0776 - val_mean_absolute_error: 0.0776\n",
      "Epoch 37/100\n",
      "7/7 [==============================] - 0s 10ms/step - loss: 0.0550 - mean_absolute_error: 0.0550 - val_loss: 0.0755 - val_mean_absolute_error: 0.0755\n",
      "Epoch 38/100\n",
      "7/7 [==============================] - 0s 9ms/step - loss: 0.0510 - mean_absolute_error: 0.0510 - val_loss: 0.0748 - val_mean_absolute_error: 0.0748\n",
      "Epoch 39/100\n",
      "7/7 [==============================] - 0s 9ms/step - loss: 0.0571 - mean_absolute_error: 0.0571 - val_loss: 0.0771 - val_mean_absolute_error: 0.0771\n",
      "Epoch 40/100\n",
      "7/7 [==============================] - 0s 8ms/step - loss: 0.0633 - mean_absolute_error: 0.0633 - val_loss: 0.0847 - val_mean_absolute_error: 0.0847\n",
      "Epoch 41/100\n",
      "7/7 [==============================] - 0s 8ms/step - loss: 0.0553 - mean_absolute_error: 0.0553 - val_loss: 0.0811 - val_mean_absolute_error: 0.0811\n",
      "Epoch 42/100\n",
      "7/7 [==============================] - 0s 12ms/step - loss: 0.0593 - mean_absolute_error: 0.0593 - val_loss: 0.0777 - val_mean_absolute_error: 0.0777\n",
      "Epoch 43/100\n",
      "7/7 [==============================] - 0s 9ms/step - loss: 0.0549 - mean_absolute_error: 0.0549 - val_loss: 0.0808 - val_mean_absolute_error: 0.0808\n",
      "Epoch 44/100\n",
      "7/7 [==============================] - 0s 9ms/step - loss: 0.0508 - mean_absolute_error: 0.0508 - val_loss: 0.0798 - val_mean_absolute_error: 0.0798\n",
      "Epoch 45/100\n",
      "7/7 [==============================] - 0s 10ms/step - loss: 0.0514 - mean_absolute_error: 0.0514 - val_loss: 0.0761 - val_mean_absolute_error: 0.0761\n",
      "Epoch 46/100\n",
      "7/7 [==============================] - 0s 8ms/step - loss: 0.0568 - mean_absolute_error: 0.0568 - val_loss: 0.0775 - val_mean_absolute_error: 0.0775\n",
      "Epoch 47/100\n",
      "7/7 [==============================] - 0s 9ms/step - loss: 0.0522 - mean_absolute_error: 0.0522 - val_loss: 0.0789 - val_mean_absolute_error: 0.0789\n",
      "Epoch 48/100\n",
      "7/7 [==============================] - 0s 9ms/step - loss: 0.0524 - mean_absolute_error: 0.0524 - val_loss: 0.0795 - val_mean_absolute_error: 0.0795\n",
      "Epoch 49/100\n",
      "7/7 [==============================] - 0s 13ms/step - loss: 0.0508 - mean_absolute_error: 0.0508 - val_loss: 0.0791 - val_mean_absolute_error: 0.0791\n",
      "Epoch 50/100\n",
      "7/7 [==============================] - 0s 15ms/step - loss: 0.0517 - mean_absolute_error: 0.0517 - val_loss: 0.0772 - val_mean_absolute_error: 0.0772\n",
      "Epoch 51/100\n"
     ]
    },
    {
     "name": "stdout",
     "output_type": "stream",
     "text": [
      "7/7 [==============================] - 0s 10ms/step - loss: 0.0508 - mean_absolute_error: 0.0508 - val_loss: 0.0809 - val_mean_absolute_error: 0.0809\n",
      "Epoch 52/100\n",
      "7/7 [==============================] - 0s 12ms/step - loss: 0.0529 - mean_absolute_error: 0.0529 - val_loss: 0.0774 - val_mean_absolute_error: 0.0774\n",
      "Epoch 53/100\n",
      "7/7 [==============================] - 0s 11ms/step - loss: 0.0501 - mean_absolute_error: 0.0501 - val_loss: 0.0766 - val_mean_absolute_error: 0.0766\n",
      "Epoch 54/100\n",
      "7/7 [==============================] - 0s 13ms/step - loss: 0.0523 - mean_absolute_error: 0.0523 - val_loss: 0.0922 - val_mean_absolute_error: 0.0922\n",
      "Epoch 55/100\n",
      "7/7 [==============================] - 0s 14ms/step - loss: 0.0695 - mean_absolute_error: 0.0695 - val_loss: 0.0808 - val_mean_absolute_error: 0.0808\n",
      "Epoch 56/100\n",
      "7/7 [==============================] - 0s 13ms/step - loss: 0.0583 - mean_absolute_error: 0.0583 - val_loss: 0.0779 - val_mean_absolute_error: 0.0779\n",
      "Epoch 57/100\n",
      "7/7 [==============================] - 0s 13ms/step - loss: 0.0505 - mean_absolute_error: 0.0505 - val_loss: 0.0789 - val_mean_absolute_error: 0.0789\n",
      "Epoch 58/100\n",
      "7/7 [==============================] - 0s 14ms/step - loss: 0.0523 - mean_absolute_error: 0.0523 - val_loss: 0.0809 - val_mean_absolute_error: 0.0809\n",
      "Epoch 59/100\n",
      "7/7 [==============================] - 0s 12ms/step - loss: 0.0496 - mean_absolute_error: 0.0496 - val_loss: 0.0780 - val_mean_absolute_error: 0.0780\n",
      "Epoch 60/100\n",
      "7/7 [==============================] - 0s 12ms/step - loss: 0.0538 - mean_absolute_error: 0.0538 - val_loss: 0.0780 - val_mean_absolute_error: 0.0780\n",
      "Epoch 61/100\n",
      "7/7 [==============================] - 0s 12ms/step - loss: 0.0508 - mean_absolute_error: 0.0508 - val_loss: 0.0771 - val_mean_absolute_error: 0.0771\n",
      "Epoch 62/100\n",
      "7/7 [==============================] - 0s 13ms/step - loss: 0.0482 - mean_absolute_error: 0.0482 - val_loss: 0.0757 - val_mean_absolute_error: 0.0757\n",
      "Epoch 63/100\n",
      "7/7 [==============================] - 0s 12ms/step - loss: 0.0487 - mean_absolute_error: 0.0487 - val_loss: 0.0755 - val_mean_absolute_error: 0.0755\n",
      "Epoch 64/100\n",
      "7/7 [==============================] - 0s 12ms/step - loss: 0.0586 - mean_absolute_error: 0.0586 - val_loss: 0.0769 - val_mean_absolute_error: 0.0769\n",
      "Epoch 65/100\n",
      "7/7 [==============================] - 0s 12ms/step - loss: 0.0574 - mean_absolute_error: 0.0574 - val_loss: 0.0698 - val_mean_absolute_error: 0.0698\n",
      "Epoch 66/100\n",
      "7/7 [==============================] - 0s 11ms/step - loss: 0.0558 - mean_absolute_error: 0.0558 - val_loss: 0.0749 - val_mean_absolute_error: 0.0749\n",
      "Epoch 67/100\n",
      "7/7 [==============================] - 0s 11ms/step - loss: 0.0513 - mean_absolute_error: 0.0513 - val_loss: 0.0842 - val_mean_absolute_error: 0.0842\n",
      "Epoch 68/100\n",
      "7/7 [==============================] - 0s 8ms/step - loss: 0.0544 - mean_absolute_error: 0.0544 - val_loss: 0.0845 - val_mean_absolute_error: 0.0845\n",
      "Epoch 69/100\n",
      "7/7 [==============================] - 0s 7ms/step - loss: 0.0612 - mean_absolute_error: 0.0612 - val_loss: 0.0819 - val_mean_absolute_error: 0.0819\n",
      "Epoch 70/100\n",
      "7/7 [==============================] - 0s 9ms/step - loss: 0.0617 - mean_absolute_error: 0.0617 - val_loss: 0.0795 - val_mean_absolute_error: 0.0795\n",
      "Epoch 71/100\n",
      "7/7 [==============================] - 0s 9ms/step - loss: 0.0543 - mean_absolute_error: 0.0543 - val_loss: 0.0821 - val_mean_absolute_error: 0.0821\n",
      "Epoch 72/100\n",
      "7/7 [==============================] - 0s 9ms/step - loss: 0.0511 - mean_absolute_error: 0.0511 - val_loss: 0.0735 - val_mean_absolute_error: 0.0735\n",
      "Epoch 73/100\n",
      "7/7 [==============================] - 0s 8ms/step - loss: 0.0476 - mean_absolute_error: 0.0476 - val_loss: 0.0771 - val_mean_absolute_error: 0.0771\n",
      "Epoch 74/100\n",
      "7/7 [==============================] - 0s 8ms/step - loss: 0.0543 - mean_absolute_error: 0.0543 - val_loss: 0.0768 - val_mean_absolute_error: 0.0768\n",
      "Epoch 75/100\n",
      "7/7 [==============================] - 0s 11ms/step - loss: 0.0478 - mean_absolute_error: 0.0478 - val_loss: 0.0755 - val_mean_absolute_error: 0.0755\n",
      "Epoch 76/100\n",
      "7/7 [==============================] - 0s 12ms/step - loss: 0.0528 - mean_absolute_error: 0.0528 - val_loss: 0.0794 - val_mean_absolute_error: 0.0794\n",
      "Epoch 77/100\n",
      "7/7 [==============================] - 0s 12ms/step - loss: 0.0545 - mean_absolute_error: 0.0545 - val_loss: 0.0845 - val_mean_absolute_error: 0.0845\n",
      "Epoch 78/100\n",
      "7/7 [==============================] - 0s 13ms/step - loss: 0.0562 - mean_absolute_error: 0.0562 - val_loss: 0.0875 - val_mean_absolute_error: 0.0875\n",
      "Epoch 79/100\n",
      "7/7 [==============================] - 0s 12ms/step - loss: 0.0605 - mean_absolute_error: 0.0605 - val_loss: 0.0770 - val_mean_absolute_error: 0.0770\n",
      "Epoch 80/100\n",
      "7/7 [==============================] - 0s 14ms/step - loss: 0.0634 - mean_absolute_error: 0.0634 - val_loss: 0.0749 - val_mean_absolute_error: 0.0749\n",
      "Epoch 81/100\n",
      "7/7 [==============================] - 0s 13ms/step - loss: 0.0493 - mean_absolute_error: 0.0493 - val_loss: 0.0715 - val_mean_absolute_error: 0.0715\n",
      "Epoch 82/100\n",
      "7/7 [==============================] - 0s 14ms/step - loss: 0.0479 - mean_absolute_error: 0.0479 - val_loss: 0.0743 - val_mean_absolute_error: 0.0743\n",
      "Epoch 83/100\n",
      "7/7 [==============================] - 0s 12ms/step - loss: 0.0488 - mean_absolute_error: 0.0488 - val_loss: 0.0711 - val_mean_absolute_error: 0.0711\n",
      "Epoch 84/100\n",
      "7/7 [==============================] - 0s 14ms/step - loss: 0.0475 - mean_absolute_error: 0.0475 - val_loss: 0.0732 - val_mean_absolute_error: 0.0732\n",
      "Epoch 85/100\n",
      "7/7 [==============================] - 0s 13ms/step - loss: 0.0461 - mean_absolute_error: 0.0461 - val_loss: 0.0749 - val_mean_absolute_error: 0.0749\n",
      "Epoch 86/100\n",
      "7/7 [==============================] - 0s 12ms/step - loss: 0.0455 - mean_absolute_error: 0.0455 - val_loss: 0.0807 - val_mean_absolute_error: 0.0807\n",
      "Epoch 87/100\n",
      "7/7 [==============================] - 0s 12ms/step - loss: 0.0491 - mean_absolute_error: 0.0491 - val_loss: 0.0837 - val_mean_absolute_error: 0.0837\n",
      "Epoch 88/100\n",
      "7/7 [==============================] - 0s 12ms/step - loss: 0.0660 - mean_absolute_error: 0.0660 - val_loss: 0.0757 - val_mean_absolute_error: 0.0757\n",
      "Epoch 89/100\n",
      "7/7 [==============================] - 0s 13ms/step - loss: 0.0610 - mean_absolute_error: 0.0610 - val_loss: 0.0719 - val_mean_absolute_error: 0.0719\n",
      "Epoch 90/100\n",
      "7/7 [==============================] - 0s 9ms/step - loss: 0.0656 - mean_absolute_error: 0.0656 - val_loss: 0.0920 - val_mean_absolute_error: 0.0920\n",
      "Epoch 91/100\n",
      "7/7 [==============================] - 0s 9ms/step - loss: 0.0673 - mean_absolute_error: 0.0673 - val_loss: 0.0971 - val_mean_absolute_error: 0.0971\n",
      "Epoch 92/100\n",
      "7/7 [==============================] - 0s 10ms/step - loss: 0.0882 - mean_absolute_error: 0.0882 - val_loss: 0.0770 - val_mean_absolute_error: 0.0770\n",
      "Epoch 93/100\n",
      "7/7 [==============================] - 0s 8ms/step - loss: 0.0652 - mean_absolute_error: 0.0652 - val_loss: 0.0877 - val_mean_absolute_error: 0.0877\n",
      "Epoch 94/100\n",
      "7/7 [==============================] - 0s 8ms/step - loss: 0.0580 - mean_absolute_error: 0.0580 - val_loss: 0.0780 - val_mean_absolute_error: 0.0780\n",
      "Epoch 95/100\n",
      "7/7 [==============================] - 0s 9ms/step - loss: 0.0647 - mean_absolute_error: 0.0647 - val_loss: 0.0796 - val_mean_absolute_error: 0.0796\n",
      "Epoch 96/100\n",
      "7/7 [==============================] - 0s 8ms/step - loss: 0.0614 - mean_absolute_error: 0.0614 - val_loss: 0.0850 - val_mean_absolute_error: 0.0850\n",
      "Epoch 97/100\n",
      "7/7 [==============================] - 0s 9ms/step - loss: 0.0536 - mean_absolute_error: 0.0536 - val_loss: 0.0776 - val_mean_absolute_error: 0.0776\n",
      "Epoch 98/100\n",
      "7/7 [==============================] - 0s 9ms/step - loss: 0.0504 - mean_absolute_error: 0.0504 - val_loss: 0.0763 - val_mean_absolute_error: 0.0763\n",
      "Epoch 99/100\n",
      "7/7 [==============================] - 0s 9ms/step - loss: 0.0473 - mean_absolute_error: 0.0473 - val_loss: 0.0770 - val_mean_absolute_error: 0.0770\n",
      "Epoch 100/100\n",
      "7/7 [==============================] - 0s 8ms/step - loss: 0.0484 - mean_absolute_error: 0.0484 - val_loss: 0.0731 - val_mean_absolute_error: 0.0731\n"
     ]
    }
   ],
   "source": [
    "history_100 = NN_model.fit(X_train, y_train, epochs=100, batch_size=32, validation_split = 0.2)"
   ]
  },
  {
   "cell_type": "code",
   "execution_count": 99,
   "metadata": {},
   "outputs": [],
   "source": [
    "def get_plots(history):\n",
    "    # summarize history for accuracy\n",
    "    plt.plot(history.history['mean_absolute_error'])\n",
    "    plt.plot(history.history['val_mean_absolute_error'])\n",
    "    plt.title('model error')\n",
    "    plt.ylabel('error')\n",
    "    plt.xlabel('epoch')\n",
    "    plt.legend(['train', 'test'], loc='upper left')\n",
    "    plt.show()\n",
    "    # summarize history for loss\n",
    "    plt.plot(history.history['loss'])\n",
    "    plt.plot(history.history['val_loss'])\n",
    "    plt.title('model loss')\n",
    "    plt.ylabel('loss')\n",
    "    plt.xlabel('epoch')\n",
    "    plt.legend(['train', 'test'], loc='upper left')\n",
    "    plt.show()"
   ]
  },
  {
   "cell_type": "code",
   "execution_count": 100,
   "metadata": {
    "scrolled": false
   },
   "outputs": [
    {
     "data": {
      "image/png": "[encoded data removed]",
      "text/plain": [
       "<Figure size 432x288 with 1 Axes>"
      ]
     },
     "metadata": {},
     "output_type": "display_data"
    },
    {
     "data": {
      "image/png": "[encoded data removed]",
      "text/plain": [
       "<Figure size 432x288 with 1 Axes>"
      ]
     },
     "metadata": {},
     "output_type": "display_data"
    }
   ],
   "source": [
    "get_plots(history_100)"
   ]
  },
  {
   "cell_type": "code",
   "execution_count": 101,
   "metadata": {
    "scrolled": true
   },
   "outputs": [
    {
     "data": {
      "text/plain": [
       "array([[0.73028773],\n",
       "       [0.82367736],\n",
       "       [1.0150186 ],\n",
       "       [0.7986601 ],\n",
       "       [0.8381619 ],\n",
       "       [0.75116855],\n",
       "       [0.7771673 ],\n",
       "       [0.81927645],\n",
       "       [0.8721728 ],\n",
       "       [0.8254861 ],\n",
       "       [0.8254861 ],\n",
       "       [0.8026987 ],\n",
       "       [0.8254861 ],\n",
       "       [0.8824219 ],\n",
       "       [0.75116855],\n",
       "       [0.8381619 ],\n",
       "       [0.78510445],\n",
       "       [0.75116855],\n",
       "       [0.8026862 ],\n",
       "       [0.75116855],\n",
       "       [0.75116855],\n",
       "       [0.75116855],\n",
       "       [0.75116855],\n",
       "       [0.79755944],\n",
       "       [0.7771673 ],\n",
       "       [0.75116855],\n",
       "       [0.7771673 ],\n",
       "       [0.79755944],\n",
       "       [0.84942603],\n",
       "       [0.8480164 ],\n",
       "       [0.8026862 ],\n",
       "       [0.75116855],\n",
       "       [0.9257961 ],\n",
       "       [0.9523894 ],\n",
       "       [0.76878554],\n",
       "       [1.1612854 ],\n",
       "       [0.82232386],\n",
       "       [0.99046093],\n",
       "       [0.81287485],\n",
       "       [1.0523889 ],\n",
       "       [0.88755435],\n",
       "       [0.8075148 ],\n",
       "       [0.80209243],\n",
       "       [0.81927645],\n",
       "       [0.9744242 ],\n",
       "       [0.8711441 ],\n",
       "       [0.8379746 ],\n",
       "       [0.8967927 ],\n",
       "       [1.1694173 ],\n",
       "       [1.0653462 ],\n",
       "       [0.7899222 ],\n",
       "       [0.7979432 ],\n",
       "       [0.8218785 ],\n",
       "       [0.92584646],\n",
       "       [0.8436209 ],\n",
       "       [0.8026987 ],\n",
       "       [0.83490354],\n",
       "       [0.80446875],\n",
       "       [0.7614401 ],\n",
       "       [0.8051787 ],\n",
       "       [0.81927645],\n",
       "       [0.8721728 ]], dtype=float32)"
      ]
     },
     "execution_count": 101,
     "metadata": {},
     "output_type": "execute_result"
    }
   ],
   "source": [
    "predictions = NN_model.predict(X_test)\n",
    "predictions"
   ]
  },
  {
   "cell_type": "markdown",
   "metadata": {},
   "source": [
    "We can see that the predictions are not centered at a single value and this is an improvement from the previous models."
   ]
  },
  {
   "cell_type": "markdown",
   "metadata": {},
   "source": [
    "###### 150 epochs"
   ]
  },
  {
   "cell_type": "code",
   "execution_count": 104,
   "metadata": {},
   "outputs": [
    {
     "name": "stdout",
     "output_type": "stream",
     "text": [
      "Model: \"sequential_7\"\n",
      "_________________________________________________________________\n",
      " Layer (type)                Output Shape              Param #   \n",
      "=================================================================\n",
      " dense_19 (Dense)            (None, 128)               7168      \n",
      "                                                                 \n",
      " dense_20 (Dense)            (None, 256)               33024     \n",
      "                                                                 \n",
      " dense_21 (Dense)            (None, 256)               65792     \n",
      "                                                                 \n",
      " dense_22 (Dense)            (None, 256)               65792     \n",
      "                                                                 \n",
      " dense_23 (Dense)            (None, 1)                 257       \n",
      "                                                                 \n",
      "=================================================================\n",
      "Total params: 172,033\n",
      "Trainable params: 172,033\n",
      "Non-trainable params: 0\n",
      "_________________________________________________________________\n"
     ]
    }
   ],
   "source": [
    "NN_model = Sequential()\n",
    "\n",
    "# The Input Layer :\n",
    "NN_model.add(Dense(128, kernel_initializer='normal',input_dim = X_train.shape[1], activation='relu'))\n",
    "\n",
    "# The Hidden Layers :\n",
    "NN_model.add(Dense(256, kernel_initializer='normal',activation='relu'))\n",
    "NN_model.add(Dense(256, kernel_initializer='normal',activation='relu'))\n",
    "NN_model.add(Dense(256, kernel_initializer='normal',activation='relu'))\n",
    "\n",
    "# The Output Layer :\n",
    "NN_model.add(Dense(1, kernel_initializer='normal',activation='linear'))\n",
    "\n",
    "# Compile the network :\n",
    "NN_model.compile(loss='mean_absolute_error', optimizer='adam', metrics=['mean_absolute_error'])\n",
    "NN_model.summary()"
   ]
  },
  {
   "cell_type": "code",
   "execution_count": 105,
   "metadata": {
    "scrolled": true
   },
   "outputs": [
    {
     "name": "stdout",
     "output_type": "stream",
     "text": [
      "Epoch 1/150\n",
      "7/7 [==============================] - 1s 49ms/step - loss: 0.6292 - mean_absolute_error: 0.6292 - val_loss: 0.1935 - val_mean_absolute_error: 0.1935\n",
      "Epoch 2/150\n",
      "7/7 [==============================] - 0s 15ms/step - loss: 0.2240 - mean_absolute_error: 0.2240 - val_loss: 0.2241 - val_mean_absolute_error: 0.2241\n",
      "Epoch 3/150\n",
      "7/7 [==============================] - 0s 14ms/step - loss: 0.2109 - mean_absolute_error: 0.2109 - val_loss: 0.1234 - val_mean_absolute_error: 0.1234\n",
      "Epoch 4/150\n",
      "7/7 [==============================] - 0s 12ms/step - loss: 0.1507 - mean_absolute_error: 0.1507 - val_loss: 0.1529 - val_mean_absolute_error: 0.1529\n",
      "Epoch 5/150\n",
      "7/7 [==============================] - 0s 15ms/step - loss: 0.1292 - mean_absolute_error: 0.1292 - val_loss: 0.1046 - val_mean_absolute_error: 0.1046\n",
      "Epoch 6/150\n",
      "7/7 [==============================] - 0s 12ms/step - loss: 0.1161 - mean_absolute_error: 0.1161 - val_loss: 0.1250 - val_mean_absolute_error: 0.1250\n",
      "Epoch 7/150\n",
      "7/7 [==============================] - 0s 12ms/step - loss: 0.0876 - mean_absolute_error: 0.0876 - val_loss: 0.0935 - val_mean_absolute_error: 0.0935\n",
      "Epoch 8/150\n",
      "7/7 [==============================] - 0s 11ms/step - loss: 0.0712 - mean_absolute_error: 0.0712 - val_loss: 0.0968 - val_mean_absolute_error: 0.0968\n",
      "Epoch 9/150\n",
      "7/7 [==============================] - 0s 11ms/step - loss: 0.0639 - mean_absolute_error: 0.0639 - val_loss: 0.0863 - val_mean_absolute_error: 0.0863\n",
      "Epoch 10/150\n",
      "7/7 [==============================] - 0s 13ms/step - loss: 0.0623 - mean_absolute_error: 0.0623 - val_loss: 0.0806 - val_mean_absolute_error: 0.0806\n",
      "Epoch 11/150\n",
      "7/7 [==============================] - 0s 11ms/step - loss: 0.0609 - mean_absolute_error: 0.0609 - val_loss: 0.0910 - val_mean_absolute_error: 0.0910\n",
      "Epoch 12/150\n",
      "7/7 [==============================] - 0s 10ms/step - loss: 0.0669 - mean_absolute_error: 0.0669 - val_loss: 0.0807 - val_mean_absolute_error: 0.0807\n",
      "Epoch 13/150\n",
      "7/7 [==============================] - 0s 13ms/step - loss: 0.0595 - mean_absolute_error: 0.0595 - val_loss: 0.0789 - val_mean_absolute_error: 0.0789\n",
      "Epoch 14/150\n",
      "7/7 [==============================] - 0s 13ms/step - loss: 0.0597 - mean_absolute_error: 0.0597 - val_loss: 0.0794 - val_mean_absolute_error: 0.0794\n",
      "Epoch 15/150\n",
      "7/7 [==============================] - 0s 12ms/step - loss: 0.0561 - mean_absolute_error: 0.0561 - val_loss: 0.0831 - val_mean_absolute_error: 0.0831\n",
      "Epoch 16/150\n",
      "7/7 [==============================] - 0s 11ms/step - loss: 0.0634 - mean_absolute_error: 0.0634 - val_loss: 0.0791 - val_mean_absolute_error: 0.0791\n",
      "Epoch 17/150\n",
      "7/7 [==============================] - 0s 12ms/step - loss: 0.0596 - mean_absolute_error: 0.0596 - val_loss: 0.0828 - val_mean_absolute_error: 0.0828\n",
      "Epoch 18/150\n",
      "7/7 [==============================] - 0s 16ms/step - loss: 0.0596 - mean_absolute_error: 0.0596 - val_loss: 0.0796 - val_mean_absolute_error: 0.0796\n",
      "Epoch 19/150\n",
      "7/7 [==============================] - 0s 10ms/step - loss: 0.0622 - mean_absolute_error: 0.0622 - val_loss: 0.0880 - val_mean_absolute_error: 0.0880\n",
      "Epoch 20/150\n",
      "7/7 [==============================] - 0s 8ms/step - loss: 0.0729 - mean_absolute_error: 0.0729 - val_loss: 0.0787 - val_mean_absolute_error: 0.0787\n",
      "Epoch 21/150\n",
      "7/7 [==============================] - 0s 8ms/step - loss: 0.0607 - mean_absolute_error: 0.0607 - val_loss: 0.0832 - val_mean_absolute_error: 0.0832\n",
      "Epoch 22/150\n",
      "7/7 [==============================] - 0s 7ms/step - loss: 0.0692 - mean_absolute_error: 0.0692 - val_loss: 0.0739 - val_mean_absolute_error: 0.0739\n",
      "Epoch 23/150\n",
      "7/7 [==============================] - 0s 13ms/step - loss: 0.0613 - mean_absolute_error: 0.0613 - val_loss: 0.0786 - val_mean_absolute_error: 0.0786\n",
      "Epoch 24/150\n",
      "7/7 [==============================] - 0s 9ms/step - loss: 0.0610 - mean_absolute_error: 0.0610 - val_loss: 0.0830 - val_mean_absolute_error: 0.0830\n",
      "Epoch 25/150\n",
      "7/7 [==============================] - 0s 9ms/step - loss: 0.0645 - mean_absolute_error: 0.0645 - val_loss: 0.0825 - val_mean_absolute_error: 0.0825\n",
      "Epoch 26/150\n",
      "7/7 [==============================] - 0s 9ms/step - loss: 0.0599 - mean_absolute_error: 0.0599 - val_loss: 0.0938 - val_mean_absolute_error: 0.0938\n",
      "Epoch 27/150\n",
      "7/7 [==============================] - 0s 7ms/step - loss: 0.0661 - mean_absolute_error: 0.0661 - val_loss: 0.0772 - val_mean_absolute_error: 0.0772\n",
      "Epoch 28/150\n",
      "7/7 [==============================] - 0s 7ms/step - loss: 0.0590 - mean_absolute_error: 0.0590 - val_loss: 0.0778 - val_mean_absolute_error: 0.0778\n",
      "Epoch 29/150\n",
      "7/7 [==============================] - 0s 9ms/step - loss: 0.0610 - mean_absolute_error: 0.0610 - val_loss: 0.0728 - val_mean_absolute_error: 0.0728\n",
      "Epoch 30/150\n",
      "7/7 [==============================] - 0s 9ms/step - loss: 0.0583 - mean_absolute_error: 0.0583 - val_loss: 0.0766 - val_mean_absolute_error: 0.0766\n",
      "Epoch 31/150\n",
      "7/7 [==============================] - 0s 9ms/step - loss: 0.0549 - mean_absolute_error: 0.0549 - val_loss: 0.0807 - val_mean_absolute_error: 0.0807\n",
      "Epoch 32/150\n",
      "7/7 [==============================] - 0s 7ms/step - loss: 0.0552 - mean_absolute_error: 0.0552 - val_loss: 0.0803 - val_mean_absolute_error: 0.0803\n",
      "Epoch 33/150\n",
      "7/7 [==============================] - 0s 8ms/step - loss: 0.0603 - mean_absolute_error: 0.0603 - val_loss: 0.0808 - val_mean_absolute_error: 0.0808\n",
      "Epoch 34/150\n",
      "7/7 [==============================] - 0s 11ms/step - loss: 0.0669 - mean_absolute_error: 0.0669 - val_loss: 0.0768 - val_mean_absolute_error: 0.0768\n",
      "Epoch 35/150\n",
      "7/7 [==============================] - 0s 9ms/step - loss: 0.0664 - mean_absolute_error: 0.0664 - val_loss: 0.0860 - val_mean_absolute_error: 0.0860\n",
      "Epoch 36/150\n",
      "7/7 [==============================] - 0s 8ms/step - loss: 0.0611 - mean_absolute_error: 0.0611 - val_loss: 0.0754 - val_mean_absolute_error: 0.0754\n",
      "Epoch 37/150\n",
      "7/7 [==============================] - 0s 8ms/step - loss: 0.0569 - mean_absolute_error: 0.0569 - val_loss: 0.0744 - val_mean_absolute_error: 0.0744\n",
      "Epoch 38/150\n",
      "7/7 [==============================] - 0s 8ms/step - loss: 0.0564 - mean_absolute_error: 0.0564 - val_loss: 0.0885 - val_mean_absolute_error: 0.0885\n",
      "Epoch 39/150\n",
      "7/7 [==============================] - 0s 9ms/step - loss: 0.0770 - mean_absolute_error: 0.0770 - val_loss: 0.0876 - val_mean_absolute_error: 0.0876\n",
      "Epoch 40/150\n",
      "7/7 [==============================] - 0s 9ms/step - loss: 0.0608 - mean_absolute_error: 0.0608 - val_loss: 0.0812 - val_mean_absolute_error: 0.0812\n",
      "Epoch 41/150\n",
      "7/7 [==============================] - 0s 11ms/step - loss: 0.0550 - mean_absolute_error: 0.0550 - val_loss: 0.0826 - val_mean_absolute_error: 0.0826\n",
      "Epoch 42/150\n",
      "7/7 [==============================] - 0s 9ms/step - loss: 0.0540 - mean_absolute_error: 0.0540 - val_loss: 0.0769 - val_mean_absolute_error: 0.0769\n",
      "Epoch 43/150\n",
      "7/7 [==============================] - 0s 10ms/step - loss: 0.0494 - mean_absolute_error: 0.0494 - val_loss: 0.0731 - val_mean_absolute_error: 0.0731\n",
      "Epoch 44/150\n",
      "7/7 [==============================] - 0s 10ms/step - loss: 0.0504 - mean_absolute_error: 0.0504 - val_loss: 0.0750 - val_mean_absolute_error: 0.0750\n",
      "Epoch 45/150\n",
      "7/7 [==============================] - 0s 12ms/step - loss: 0.0530 - mean_absolute_error: 0.0530 - val_loss: 0.0732 - val_mean_absolute_error: 0.0732\n",
      "Epoch 46/150\n",
      "7/7 [==============================] - 0s 13ms/step - loss: 0.0543 - mean_absolute_error: 0.0543 - val_loss: 0.0787 - val_mean_absolute_error: 0.0787\n",
      "Epoch 47/150\n",
      "7/7 [==============================] - 0s 12ms/step - loss: 0.0518 - mean_absolute_error: 0.0518 - val_loss: 0.0723 - val_mean_absolute_error: 0.0723\n",
      "Epoch 48/150\n",
      "7/7 [==============================] - 0s 16ms/step - loss: 0.0500 - mean_absolute_error: 0.0500 - val_loss: 0.0751 - val_mean_absolute_error: 0.0751\n",
      "Epoch 49/150\n",
      "7/7 [==============================] - 0s 13ms/step - loss: 0.0542 - mean_absolute_error: 0.0542 - val_loss: 0.0749 - val_mean_absolute_error: 0.0749\n",
      "Epoch 50/150\n",
      "7/7 [==============================] - 0s 12ms/step - loss: 0.0525 - mean_absolute_error: 0.0525 - val_loss: 0.0739 - val_mean_absolute_error: 0.0739\n",
      "Epoch 51/150\n"
     ]
    },
    {
     "name": "stdout",
     "output_type": "stream",
     "text": [
      "7/7 [==============================] - 0s 13ms/step - loss: 0.0513 - mean_absolute_error: 0.0513 - val_loss: 0.0738 - val_mean_absolute_error: 0.0738\n",
      "Epoch 52/150\n",
      "7/7 [==============================] - 0s 12ms/step - loss: 0.0572 - mean_absolute_error: 0.0572 - val_loss: 0.0797 - val_mean_absolute_error: 0.0797\n",
      "Epoch 53/150\n",
      "7/7 [==============================] - 0s 11ms/step - loss: 0.0516 - mean_absolute_error: 0.0516 - val_loss: 0.0752 - val_mean_absolute_error: 0.0752\n",
      "Epoch 54/150\n",
      "7/7 [==============================] - 0s 12ms/step - loss: 0.0492 - mean_absolute_error: 0.0492 - val_loss: 0.0758 - val_mean_absolute_error: 0.0758\n",
      "Epoch 55/150\n",
      "7/7 [==============================] - 0s 12ms/step - loss: 0.0484 - mean_absolute_error: 0.0484 - val_loss: 0.0758 - val_mean_absolute_error: 0.0758\n",
      "Epoch 56/150\n",
      "7/7 [==============================] - 0s 11ms/step - loss: 0.0460 - mean_absolute_error: 0.0460 - val_loss: 0.0752 - val_mean_absolute_error: 0.0752\n",
      "Epoch 57/150\n",
      "7/7 [==============================] - 0s 11ms/step - loss: 0.0533 - mean_absolute_error: 0.0533 - val_loss: 0.0741 - val_mean_absolute_error: 0.0741\n",
      "Epoch 58/150\n",
      "7/7 [==============================] - 0s 10ms/step - loss: 0.0516 - mean_absolute_error: 0.0516 - val_loss: 0.0799 - val_mean_absolute_error: 0.0799\n",
      "Epoch 59/150\n",
      "7/7 [==============================] - 0s 12ms/step - loss: 0.0565 - mean_absolute_error: 0.0565 - val_loss: 0.0819 - val_mean_absolute_error: 0.0819\n",
      "Epoch 60/150\n",
      "7/7 [==============================] - 0s 12ms/step - loss: 0.0604 - mean_absolute_error: 0.0604 - val_loss: 0.0769 - val_mean_absolute_error: 0.0769\n",
      "Epoch 61/150\n",
      "7/7 [==============================] - 0s 11ms/step - loss: 0.0674 - mean_absolute_error: 0.0674 - val_loss: 0.0834 - val_mean_absolute_error: 0.0834\n",
      "Epoch 62/150\n",
      "7/7 [==============================] - 0s 12ms/step - loss: 0.0715 - mean_absolute_error: 0.0715 - val_loss: 0.0838 - val_mean_absolute_error: 0.0838\n",
      "Epoch 63/150\n",
      "7/7 [==============================] - 0s 14ms/step - loss: 0.0656 - mean_absolute_error: 0.0656 - val_loss: 0.0868 - val_mean_absolute_error: 0.0868\n",
      "Epoch 64/150\n",
      "7/7 [==============================] - 0s 13ms/step - loss: 0.0654 - mean_absolute_error: 0.0654 - val_loss: 0.0739 - val_mean_absolute_error: 0.0739\n",
      "Epoch 65/150\n",
      "7/7 [==============================] - 0s 12ms/step - loss: 0.0588 - mean_absolute_error: 0.0588 - val_loss: 0.0709 - val_mean_absolute_error: 0.0709\n",
      "Epoch 66/150\n",
      "7/7 [==============================] - 0s 20ms/step - loss: 0.0588 - mean_absolute_error: 0.0588 - val_loss: 0.0861 - val_mean_absolute_error: 0.0861\n",
      "Epoch 67/150\n",
      "7/7 [==============================] - 0s 10ms/step - loss: 0.0605 - mean_absolute_error: 0.0605 - val_loss: 0.0703 - val_mean_absolute_error: 0.0703\n",
      "Epoch 68/150\n",
      "7/7 [==============================] - 0s 10ms/step - loss: 0.0522 - mean_absolute_error: 0.0522 - val_loss: 0.0740 - val_mean_absolute_error: 0.0740\n",
      "Epoch 69/150\n",
      "7/7 [==============================] - 0s 9ms/step - loss: 0.0508 - mean_absolute_error: 0.0508 - val_loss: 0.0729 - val_mean_absolute_error: 0.0729\n",
      "Epoch 70/150\n",
      "7/7 [==============================] - 0s 12ms/step - loss: 0.0494 - mean_absolute_error: 0.0494 - val_loss: 0.0736 - val_mean_absolute_error: 0.0736\n",
      "Epoch 71/150\n",
      "7/7 [==============================] - 0s 8ms/step - loss: 0.0480 - mean_absolute_error: 0.0480 - val_loss: 0.0737 - val_mean_absolute_error: 0.0737\n",
      "Epoch 72/150\n",
      "7/7 [==============================] - 0s 9ms/step - loss: 0.0495 - mean_absolute_error: 0.0495 - val_loss: 0.0687 - val_mean_absolute_error: 0.0687\n",
      "Epoch 73/150\n",
      "7/7 [==============================] - 0s 8ms/step - loss: 0.0467 - mean_absolute_error: 0.0467 - val_loss: 0.0720 - val_mean_absolute_error: 0.0720\n",
      "Epoch 74/150\n",
      "7/7 [==============================] - 0s 7ms/step - loss: 0.0472 - mean_absolute_error: 0.0472 - val_loss: 0.0732 - val_mean_absolute_error: 0.0732\n",
      "Epoch 75/150\n",
      "7/7 [==============================] - 0s 8ms/step - loss: 0.0447 - mean_absolute_error: 0.0447 - val_loss: 0.0699 - val_mean_absolute_error: 0.0699\n",
      "Epoch 76/150\n",
      "7/7 [==============================] - 0s 9ms/step - loss: 0.0502 - mean_absolute_error: 0.0502 - val_loss: 0.0741 - val_mean_absolute_error: 0.0741\n",
      "Epoch 77/150\n",
      "7/7 [==============================] - 0s 8ms/step - loss: 0.0489 - mean_absolute_error: 0.0489 - val_loss: 0.0761 - val_mean_absolute_error: 0.0761\n",
      "Epoch 78/150\n",
      "7/7 [==============================] - 0s 8ms/step - loss: 0.0503 - mean_absolute_error: 0.0503 - val_loss: 0.0752 - val_mean_absolute_error: 0.0752\n",
      "Epoch 79/150\n",
      "7/7 [==============================] - 0s 8ms/step - loss: 0.0484 - mean_absolute_error: 0.0484 - val_loss: 0.0721 - val_mean_absolute_error: 0.0721\n",
      "Epoch 80/150\n",
      "7/7 [==============================] - 0s 9ms/step - loss: 0.0564 - mean_absolute_error: 0.0564 - val_loss: 0.0724 - val_mean_absolute_error: 0.0724\n",
      "Epoch 81/150\n",
      "7/7 [==============================] - 0s 10ms/step - loss: 0.0498 - mean_absolute_error: 0.0498 - val_loss: 0.0738 - val_mean_absolute_error: 0.0738\n",
      "Epoch 82/150\n",
      "7/7 [==============================] - 0s 8ms/step - loss: 0.0463 - mean_absolute_error: 0.0463 - val_loss: 0.0720 - val_mean_absolute_error: 0.0720\n",
      "Epoch 83/150\n",
      "7/7 [==============================] - 0s 8ms/step - loss: 0.0466 - mean_absolute_error: 0.0466 - val_loss: 0.0712 - val_mean_absolute_error: 0.0712\n",
      "Epoch 84/150\n",
      "7/7 [==============================] - 0s 7ms/step - loss: 0.0467 - mean_absolute_error: 0.0467 - val_loss: 0.0684 - val_mean_absolute_error: 0.0684\n",
      "Epoch 85/150\n",
      "7/7 [==============================] - 0s 9ms/step - loss: 0.0456 - mean_absolute_error: 0.0456 - val_loss: 0.0700 - val_mean_absolute_error: 0.0700\n",
      "Epoch 86/150\n",
      "7/7 [==============================] - 0s 8ms/step - loss: 0.0460 - mean_absolute_error: 0.0460 - val_loss: 0.0748 - val_mean_absolute_error: 0.0748\n",
      "Epoch 87/150\n",
      "7/7 [==============================] - 0s 8ms/step - loss: 0.0527 - mean_absolute_error: 0.0527 - val_loss: 0.0763 - val_mean_absolute_error: 0.0763\n",
      "Epoch 88/150\n",
      "7/7 [==============================] - 0s 8ms/step - loss: 0.0528 - mean_absolute_error: 0.0528 - val_loss: 0.0856 - val_mean_absolute_error: 0.0856\n",
      "Epoch 89/150\n",
      "7/7 [==============================] - 0s 9ms/step - loss: 0.0596 - mean_absolute_error: 0.0596 - val_loss: 0.0751 - val_mean_absolute_error: 0.0751\n",
      "Epoch 90/150\n",
      "7/7 [==============================] - 0s 8ms/step - loss: 0.0595 - mean_absolute_error: 0.0595 - val_loss: 0.0730 - val_mean_absolute_error: 0.0730\n",
      "Epoch 91/150\n",
      "7/7 [==============================] - 0s 7ms/step - loss: 0.0509 - mean_absolute_error: 0.0509 - val_loss: 0.0773 - val_mean_absolute_error: 0.0773\n",
      "Epoch 92/150\n",
      "7/7 [==============================] - 0s 8ms/step - loss: 0.0510 - mean_absolute_error: 0.0510 - val_loss: 0.0748 - val_mean_absolute_error: 0.0748\n",
      "Epoch 93/150\n",
      "7/7 [==============================] - 0s 8ms/step - loss: 0.0489 - mean_absolute_error: 0.0489 - val_loss: 0.0720 - val_mean_absolute_error: 0.0720\n",
      "Epoch 94/150\n",
      "7/7 [==============================] - 0s 9ms/step - loss: 0.0481 - mean_absolute_error: 0.0481 - val_loss: 0.0719 - val_mean_absolute_error: 0.0719\n",
      "Epoch 95/150\n",
      "7/7 [==============================] - 0s 8ms/step - loss: 0.0497 - mean_absolute_error: 0.0497 - val_loss: 0.0693 - val_mean_absolute_error: 0.0693\n",
      "Epoch 96/150\n",
      "7/7 [==============================] - 0s 8ms/step - loss: 0.0480 - mean_absolute_error: 0.0480 - val_loss: 0.0718 - val_mean_absolute_error: 0.0718\n",
      "Epoch 97/150\n",
      "7/7 [==============================] - 0s 8ms/step - loss: 0.0485 - mean_absolute_error: 0.0485 - val_loss: 0.0701 - val_mean_absolute_error: 0.0701\n",
      "Epoch 98/150\n",
      "7/7 [==============================] - 0s 10ms/step - loss: 0.0487 - mean_absolute_error: 0.0487 - val_loss: 0.0748 - val_mean_absolute_error: 0.0748\n",
      "Epoch 99/150\n",
      "7/7 [==============================] - 0s 10ms/step - loss: 0.0468 - mean_absolute_error: 0.0468 - val_loss: 0.0715 - val_mean_absolute_error: 0.0715\n",
      "Epoch 100/150\n",
      "7/7 [==============================] - 0s 8ms/step - loss: 0.0464 - mean_absolute_error: 0.0464 - val_loss: 0.0740 - val_mean_absolute_error: 0.0740\n",
      "Epoch 101/150\n"
     ]
    },
    {
     "name": "stdout",
     "output_type": "stream",
     "text": [
      "7/7 [==============================] - 0s 8ms/step - loss: 0.0474 - mean_absolute_error: 0.0474 - val_loss: 0.0735 - val_mean_absolute_error: 0.0735\n",
      "Epoch 102/150\n",
      "7/7 [==============================] - 0s 8ms/step - loss: 0.0467 - mean_absolute_error: 0.0467 - val_loss: 0.0767 - val_mean_absolute_error: 0.0767\n",
      "Epoch 103/150\n",
      "7/7 [==============================] - 0s 9ms/step - loss: 0.0489 - mean_absolute_error: 0.0489 - val_loss: 0.0721 - val_mean_absolute_error: 0.0721\n",
      "Epoch 104/150\n",
      "7/7 [==============================] - 0s 8ms/step - loss: 0.0513 - mean_absolute_error: 0.0513 - val_loss: 0.0766 - val_mean_absolute_error: 0.0766\n",
      "Epoch 105/150\n",
      "7/7 [==============================] - 0s 8ms/step - loss: 0.0578 - mean_absolute_error: 0.0578 - val_loss: 0.0808 - val_mean_absolute_error: 0.0808\n",
      "Epoch 106/150\n",
      "7/7 [==============================] - 0s 8ms/step - loss: 0.0503 - mean_absolute_error: 0.0503 - val_loss: 0.0846 - val_mean_absolute_error: 0.0846\n",
      "Epoch 107/150\n",
      "7/7 [==============================] - 0s 12ms/step - loss: 0.0515 - mean_absolute_error: 0.0515 - val_loss: 0.0775 - val_mean_absolute_error: 0.0775\n",
      "Epoch 108/150\n",
      "7/7 [==============================] - 0s 12ms/step - loss: 0.0506 - mean_absolute_error: 0.0506 - val_loss: 0.0756 - val_mean_absolute_error: 0.0756\n",
      "Epoch 109/150\n",
      "7/7 [==============================] - 0s 13ms/step - loss: 0.0484 - mean_absolute_error: 0.0484 - val_loss: 0.0721 - val_mean_absolute_error: 0.0721\n",
      "Epoch 110/150\n",
      "7/7 [==============================] - 0s 12ms/step - loss: 0.0474 - mean_absolute_error: 0.0474 - val_loss: 0.0763 - val_mean_absolute_error: 0.0763\n",
      "Epoch 111/150\n",
      "7/7 [==============================] - 0s 14ms/step - loss: 0.0489 - mean_absolute_error: 0.0489 - val_loss: 0.0730 - val_mean_absolute_error: 0.0730\n",
      "Epoch 112/150\n",
      "7/7 [==============================] - 0s 13ms/step - loss: 0.0505 - mean_absolute_error: 0.0505 - val_loss: 0.0733 - val_mean_absolute_error: 0.0733\n",
      "Epoch 113/150\n",
      "7/7 [==============================] - 0s 11ms/step - loss: 0.0522 - mean_absolute_error: 0.0522 - val_loss: 0.0745 - val_mean_absolute_error: 0.0745\n",
      "Epoch 114/150\n",
      "7/7 [==============================] - 0s 9ms/step - loss: 0.0479 - mean_absolute_error: 0.0479 - val_loss: 0.0772 - val_mean_absolute_error: 0.0772\n",
      "Epoch 115/150\n",
      "7/7 [==============================] - 0s 10ms/step - loss: 0.0506 - mean_absolute_error: 0.0506 - val_loss: 0.0753 - val_mean_absolute_error: 0.0753\n",
      "Epoch 116/150\n",
      "7/7 [==============================] - 0s 9ms/step - loss: 0.0458 - mean_absolute_error: 0.0458 - val_loss: 0.0750 - val_mean_absolute_error: 0.0750\n",
      "Epoch 117/150\n",
      "7/7 [==============================] - 0s 9ms/step - loss: 0.0469 - mean_absolute_error: 0.0469 - val_loss: 0.0720 - val_mean_absolute_error: 0.0720\n",
      "Epoch 118/150\n",
      "7/7 [==============================] - 0s 9ms/step - loss: 0.0432 - mean_absolute_error: 0.0432 - val_loss: 0.0730 - val_mean_absolute_error: 0.0730\n",
      "Epoch 119/150\n",
      "7/7 [==============================] - 0s 7ms/step - loss: 0.0451 - mean_absolute_error: 0.0451 - val_loss: 0.0725 - val_mean_absolute_error: 0.0725\n",
      "Epoch 120/150\n",
      "7/7 [==============================] - 0s 9ms/step - loss: 0.0476 - mean_absolute_error: 0.0476 - val_loss: 0.0808 - val_mean_absolute_error: 0.0808\n",
      "Epoch 121/150\n",
      "7/7 [==============================] - 0s 8ms/step - loss: 0.0495 - mean_absolute_error: 0.0495 - val_loss: 0.0756 - val_mean_absolute_error: 0.0756\n",
      "Epoch 122/150\n",
      "7/7 [==============================] - 0s 10ms/step - loss: 0.0485 - mean_absolute_error: 0.0485 - val_loss: 0.0783 - val_mean_absolute_error: 0.0783\n",
      "Epoch 123/150\n",
      "7/7 [==============================] - 0s 10ms/step - loss: 0.0513 - mean_absolute_error: 0.0513 - val_loss: 0.0759 - val_mean_absolute_error: 0.0759\n",
      "Epoch 124/150\n",
      "7/7 [==============================] - 0s 9ms/step - loss: 0.0472 - mean_absolute_error: 0.0472 - val_loss: 0.0754 - val_mean_absolute_error: 0.0754\n",
      "Epoch 125/150\n",
      "7/7 [==============================] - 0s 14ms/step - loss: 0.0469 - mean_absolute_error: 0.0469 - val_loss: 0.0736 - val_mean_absolute_error: 0.0736\n",
      "Epoch 126/150\n",
      "7/7 [==============================] - 0s 9ms/step - loss: 0.0472 - mean_absolute_error: 0.0472 - val_loss: 0.0743 - val_mean_absolute_error: 0.0743\n",
      "Epoch 127/150\n",
      "7/7 [==============================] - 0s 9ms/step - loss: 0.0458 - mean_absolute_error: 0.0458 - val_loss: 0.0780 - val_mean_absolute_error: 0.0780\n",
      "Epoch 128/150\n",
      "7/7 [==============================] - 0s 8ms/step - loss: 0.0471 - mean_absolute_error: 0.0471 - val_loss: 0.0718 - val_mean_absolute_error: 0.0718\n",
      "Epoch 129/150\n",
      "7/7 [==============================] - 0s 9ms/step - loss: 0.0500 - mean_absolute_error: 0.0500 - val_loss: 0.0734 - val_mean_absolute_error: 0.0734\n",
      "Epoch 130/150\n",
      "7/7 [==============================] - 0s 9ms/step - loss: 0.0457 - mean_absolute_error: 0.0457 - val_loss: 0.0739 - val_mean_absolute_error: 0.0739\n",
      "Epoch 131/150\n",
      "7/7 [==============================] - 0s 7ms/step - loss: 0.0468 - mean_absolute_error: 0.0468 - val_loss: 0.0738 - val_mean_absolute_error: 0.0738\n",
      "Epoch 132/150\n",
      "7/7 [==============================] - 0s 8ms/step - loss: 0.0458 - mean_absolute_error: 0.0458 - val_loss: 0.0732 - val_mean_absolute_error: 0.0732\n",
      "Epoch 133/150\n",
      "7/7 [==============================] - 0s 8ms/step - loss: 0.0441 - mean_absolute_error: 0.0441 - val_loss: 0.0714 - val_mean_absolute_error: 0.0714\n",
      "Epoch 134/150\n",
      "7/7 [==============================] - 0s 8ms/step - loss: 0.0477 - mean_absolute_error: 0.0477 - val_loss: 0.0698 - val_mean_absolute_error: 0.0698\n",
      "Epoch 135/150\n",
      "7/7 [==============================] - 0s 10ms/step - loss: 0.0437 - mean_absolute_error: 0.0437 - val_loss: 0.0696 - val_mean_absolute_error: 0.0696\n",
      "Epoch 136/150\n",
      "7/7 [==============================] - 0s 8ms/step - loss: 0.0479 - mean_absolute_error: 0.0479 - val_loss: 0.0728 - val_mean_absolute_error: 0.0728\n",
      "Epoch 137/150\n",
      "7/7 [==============================] - 0s 8ms/step - loss: 0.0465 - mean_absolute_error: 0.0465 - val_loss: 0.0727 - val_mean_absolute_error: 0.0727\n",
      "Epoch 138/150\n",
      "7/7 [==============================] - 0s 8ms/step - loss: 0.0445 - mean_absolute_error: 0.0445 - val_loss: 0.0720 - val_mean_absolute_error: 0.0720\n",
      "Epoch 139/150\n",
      "7/7 [==============================] - 0s 9ms/step - loss: 0.0482 - mean_absolute_error: 0.0482 - val_loss: 0.0791 - val_mean_absolute_error: 0.0791\n",
      "Epoch 140/150\n",
      "7/7 [==============================] - 0s 8ms/step - loss: 0.0540 - mean_absolute_error: 0.0540 - val_loss: 0.0831 - val_mean_absolute_error: 0.0831\n",
      "Epoch 141/150\n",
      "7/7 [==============================] - 0s 8ms/step - loss: 0.0555 - mean_absolute_error: 0.0555 - val_loss: 0.0770 - val_mean_absolute_error: 0.0770\n",
      "Epoch 142/150\n",
      "7/7 [==============================] - 0s 10ms/step - loss: 0.0509 - mean_absolute_error: 0.0509 - val_loss: 0.0772 - val_mean_absolute_error: 0.0772\n",
      "Epoch 143/150\n",
      "7/7 [==============================] - 0s 9ms/step - loss: 0.0520 - mean_absolute_error: 0.0520 - val_loss: 0.0762 - val_mean_absolute_error: 0.0762\n",
      "Epoch 144/150\n",
      "7/7 [==============================] - 0s 9ms/step - loss: 0.0521 - mean_absolute_error: 0.0521 - val_loss: 0.0797 - val_mean_absolute_error: 0.0797\n",
      "Epoch 145/150\n",
      "7/7 [==============================] - 0s 9ms/step - loss: 0.0508 - mean_absolute_error: 0.0508 - val_loss: 0.0739 - val_mean_absolute_error: 0.0739\n",
      "Epoch 146/150\n",
      "7/7 [==============================] - 0s 9ms/step - loss: 0.0446 - mean_absolute_error: 0.0446 - val_loss: 0.0743 - val_mean_absolute_error: 0.0743\n",
      "Epoch 147/150\n",
      "7/7 [==============================] - 0s 9ms/step - loss: 0.0479 - mean_absolute_error: 0.0479 - val_loss: 0.0723 - val_mean_absolute_error: 0.0723\n",
      "Epoch 148/150\n",
      "7/7 [==============================] - 0s 8ms/step - loss: 0.0491 - mean_absolute_error: 0.0491 - val_loss: 0.0721 - val_mean_absolute_error: 0.0721\n",
      "Epoch 149/150\n",
      "7/7 [==============================] - 0s 8ms/step - loss: 0.0478 - mean_absolute_error: 0.0478 - val_loss: 0.0715 - val_mean_absolute_error: 0.0715\n",
      "Epoch 150/150\n",
      "7/7 [==============================] - 0s 8ms/step - loss: 0.0465 - mean_absolute_error: 0.0465 - val_loss: 0.0730 - val_mean_absolute_error: 0.0730\n"
     ]
    }
   ],
   "source": [
    "history_150 = NN_model.fit(X_train, y_train, epochs=150, batch_size=32, validation_split = 0.2)"
   ]
  },
  {
   "cell_type": "code",
   "execution_count": 106,
   "metadata": {
    "scrolled": false
   },
   "outputs": [
    {
     "data": {
      "image/png": "[encoded data removed]",
      "text/plain": [
       "<Figure size 432x288 with 1 Axes>"
      ]
     },
     "metadata": {},
     "output_type": "display_data"
    },
    {
     "data": {
      "image/png": "[encoded data removed]",
      "text/plain": [
       "<Figure size 432x288 with 1 Axes>"
      ]
     },
     "metadata": {},
     "output_type": "display_data"
    }
   ],
   "source": [
    "get_plots(history_150)"
   ]
  },
  {
   "cell_type": "markdown",
   "metadata": {},
   "source": [
    "###### Predictions"
   ]
  },
  {
   "cell_type": "code",
   "execution_count": 107,
   "metadata": {},
   "outputs": [],
   "source": [
    "predictions = NN_model.predict(X_test)"
   ]
  },
  {
   "cell_type": "code",
   "execution_count": 108,
   "metadata": {},
   "outputs": [
    {
     "data": {
      "text/plain": [
       "0.009387805868041882"
      ]
     },
     "execution_count": 108,
     "metadata": {},
     "output_type": "execute_result"
    }
   ],
   "source": [
    "# error for 150 epoch model\n",
    "mean_squared_error(y_test, predictions)"
   ]
  },
  {
   "cell_type": "code",
   "execution_count": 109,
   "metadata": {},
   "outputs": [],
   "source": [
    "prediction_df = pd.DataFrame(columns=['Original_Alpha','Predicted_Alpha'])\n",
    "prediction_df['Original_Alpha'] = y\n",
    "prediction_df['Predicted_Alpha'] = NN_model.predict(X)"
   ]
  },
  {
   "cell_type": "code",
   "execution_count": 110,
   "metadata": {},
   "outputs": [],
   "source": [
    "prediction_df.to_excel(\"Alpha_Predictions_150.xlsx\")"
   ]
  },
  {
   "cell_type": "code",
   "execution_count": null,
   "metadata": {},
   "outputs": [],
   "source": []
  }
 ],
 "metadata": {
  "accelerator": "GPU",
  "colab": {
   "collapsed_sections": [],
   "name": "Week9labCharGenerationStanton.ipynb",
   "provenance": []
  },
  "kernelspec": {
   "display_name": "Python 3 (ipykernel)",
   "language": "python",
   "name": "python3"
  },
  "language_info": {
   "codemirror_mode": {
    "name": "ipython",
    "version": 3
   },
   "file_extension": ".py",
   "mimetype": "text/x-python",
   "name": "python",
   "nbconvert_exporter": "python",
   "pygments_lexer": "ipython3",
   "version": "3.9.7"
  }
 },
 "nbformat": 4,
 "nbformat_minor": 1
}
